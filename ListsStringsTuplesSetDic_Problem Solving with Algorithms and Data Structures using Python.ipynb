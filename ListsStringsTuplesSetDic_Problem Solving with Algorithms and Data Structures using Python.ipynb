{
 "cells": [
  {
   "cell_type": "markdown",
   "metadata": {},
   "source": [
    "Python is a modern, easy-to-learn, object-oriented programming language. It\n",
    "has a powerful set of built-in data types and easy-to-use control consturcts.\n",
    " "
   ]
  },
  {
   "cell_type": "code",
   "execution_count": 1,
   "metadata": {},
   "outputs": [
    {
     "name": "stdout",
     "output_type": "stream",
     "text": [
      "0\n",
      "<class 'int'>\n",
      "True\n",
      "<class 'bool'>\n"
     ]
    }
   ],
   "source": [
    "# The assignment statement changes the reference being held by the variable\n",
    "\n",
    "theSum = 0\n",
    "print(theSum)\n",
    "print(type(theSum))\n",
    "theSum = True\n",
    "print(theSum)\n",
    "print(type(theSum))"
   ]
  },
  {
   "cell_type": "markdown",
   "metadata": {},
   "source": [
    "#### Lists\n",
    "###### Lists, strings, and tuples are ordered collestions; Sets and dictionaries are unordered collections"
   ]
  },
  {
   "cell_type": "markdown",
   "metadata": {},
   "source": [
    "Method  Name\t                Use\tExplanation\n",
    "append\talist.append(item)\t    Adds a new item to the end of a list\n",
    "insert\talist.insert(i,item)\tInserts an item at the ith position in a list\n",
    "pop\t    alist.pop()\t            Removes and returns the last item in a list\n",
    "pop\t    alist.pop(i)\t        Removes and returns the ith item in a list\n",
    "sort\talist.sort()\t        Modifies a list to be sorted\n",
    "reverse\talist.reverse()\t        Modifies a list to be in reverse order\n",
    "del\t    del alist[i]\t        Deletes the item in the ith position\n",
    "index\talist.index(item)\t    Returns the index of the first occurrence of item\n",
    "count\talist.count(item)\t    Returns the number of occurrences of item\n",
    "remove\talist.remove(item)\t    Removes the first occurrence of item"
   ]
  },
  {
   "cell_type": "markdown",
   "metadata": {},
   "source": [
    "Operation Name\t      Operator\t    Explanation\n",
    "indexing            \t[ ]\t        Access an element of a sequence\n",
    "concatenation\t        +\t        Combine sequences together\n",
    "repetition\t            *\t        Concatenate a repeated number of times\n",
    "membership\t            in\t        Ask whether an item is in a sequence\n",
    "length\t                len\t        Ask the number of items in the sequence\n",
    "slicing              \t[ : ]\t    Extract a part of a sequence"
   ]
  },
  {
   "cell_type": "code",
   "execution_count": 2,
   "metadata": {},
   "outputs": [
    {
     "name": "stdout",
     "output_type": "stream",
     "text": [
      "[[1, 2, 3, 4], [1, 2, 3, 4], [1, 2, 3, 4]]\n",
      "[[1, 2, 45, 4], [1, 2, 45, 4], [1, 2, 45, 4]]\n"
     ]
    }
   ],
   "source": [
    "myList = [1,2,3,4]\n",
    "A = [myList]*3 # mylist shows up in three times\n",
    "print(A)\n",
    "myList[2]=45 # a change in one element of myList, changes all in A\n",
    "print(A)"
   ]
  },
  {
   "cell_type": "code",
   "execution_count": 3,
   "metadata": {},
   "outputs": [
    {
     "name": "stdout",
     "output_type": "stream",
     "text": [
      "[1024, 3, True, 6.5, False]\n",
      "[1024, 3, 4.5, True, 6.5, False]\n",
      "False\n",
      "[1024, 3, 4.5, True, 6.5]\n",
      "3\n",
      "[1024, 4.5, True, 6.5]\n",
      "[1024, 4.5, 6.5]\n",
      "[4.5, 6.5, 1024]\n",
      "[1024, 6.5, 4.5]\n",
      "1\n",
      "2\n",
      "[1024, 4.5]\n",
      "[4.5]\n"
     ]
    }
   ],
   "source": [
    "myList = [1024, 3, True, 6.5]\n",
    "myList.append(False)\n",
    "print(myList)\n",
    "myList.insert(2,4.5)\n",
    "print(myList)\n",
    "print(myList.pop()) # pop will default to the end of the list\n",
    "print(myList)\n",
    "print(myList.pop(1)) # pop can also remove and return a specific item\n",
    "print(myList)\n",
    "myList.pop(2)\n",
    "print(myList)\n",
    "myList.sort()\n",
    "print(myList)\n",
    "myList.reverse()\n",
    "print(myList)\n",
    "print(myList.count(6.5))\n",
    "print(myList.index(4.5))\n",
    "myList.remove(6.5)\n",
    "print(myList)\n",
    "del myList[0]\n",
    "print(myList)"
   ]
  },
  {
   "cell_type": "markdown",
   "metadata": {},
   "source": [
    "###### one common Python function that is often discussed in conjunction with lists is the range function"
   ]
  },
  {
   "cell_type": "code",
   "execution_count": 4,
   "metadata": {},
   "outputs": [
    {
     "name": "stdout",
     "output_type": "stream",
     "text": [
      "range(0, 10)\n",
      "[0, 1, 2, 3, 4, 5, 6, 7, 8, 9]\n",
      "range(5, 10)\n",
      "[5, 6, 7, 8, 9]\n",
      "[5, 7, 9]\n",
      "[10, 9, 8, 7, 6, 5, 4, 3, 2]\n"
     ]
    }
   ],
   "source": [
    "print(range(10))\n",
    "print(list(range(10)))\n",
    "print(range(5,10))\n",
    "print(list(range(5,10)))\n",
    "print(list(range(5,10,2)))\n",
    "print(list(range(10,1,-1)))"
   ]
  },
  {
   "cell_type": "markdown",
   "metadata": {},
   "source": [
    "###### Strings"
   ]
  },
  {
   "cell_type": "markdown",
   "metadata": {},
   "source": [
    "###### Strings are sequential collections of zero or more letters, numbers and other symbols. We call these letters,numbers and other symbols characters."
   ]
  },
  {
   "cell_type": "markdown",
   "metadata": {},
   "source": [
    "Method Name      Use\t    Explanation\n",
    "center\t  astring.center(w)\t    Returns a string centered in a field of size w\n",
    "count\t  astring.count(item)\tReturns the number of occurrences of item in the string\n",
    "ljust\t  astring.ljust(w)\t    Returns a string left-justified in a field of size w\n",
    "lower\t  astring.lower()\t    Returns a string in all lowercase\n",
    "rjust\t  astring.rjust(w)\t    Returns a string right-justified in a field of size w\n",
    "find\t  astring.find(item)\tReturns the index of the first occurrence of item\n",
    "split\t  astring.split(schar)\tSplits a string into substrings at schar"
   ]
  },
  {
   "cell_type": "code",
   "execution_count": 5,
   "metadata": {},
   "outputs": [
    {
     "name": "stdout",
     "output_type": "stream",
     "text": [
      "David\n",
      "DAVID\n",
      "  David   \n",
      "2\n",
      "['Da', 'id']\n",
      "['David']\n"
     ]
    }
   ],
   "source": [
    "myName = \"David\"\n",
    "print(myName)\n",
    "print(myName.upper())\n",
    "print(myName.center(10))\n",
    "print(myName.find('v'))\n",
    "# split will be very useful for processing data. Split will take a string and \n",
    "# return a list of strings using the split character as a division point.\n",
    "print(myName.split('v'))\n",
    "print(myName.split())"
   ]
  },
  {
   "cell_type": "markdown",
   "metadata": {},
   "source": [
    "######  A major difference between lists and strings is that lists can be modified while strings cannot. This is referred to as mutability.   Lists are mutable; strings are immutable"
   ]
  },
  {
   "cell_type": "code",
   "execution_count": 6,
   "metadata": {},
   "outputs": [
    {
     "ename": "TypeError",
     "evalue": "'str' object does not support item assignment",
     "output_type": "error",
     "traceback": [
      "\u001b[1;31m---------------------------------------------------------------------------\u001b[0m",
      "\u001b[1;31mTypeError\u001b[0m                                 Traceback (most recent call last)",
      "\u001b[1;32m<ipython-input-6-77ac6cc657d3>\u001b[0m in \u001b[0;36m<module>\u001b[1;34m\u001b[0m\n\u001b[1;32m----> 1\u001b[1;33m \u001b[0mmyName\u001b[0m\u001b[1;33m[\u001b[0m\u001b[1;36m0\u001b[0m\u001b[1;33m]\u001b[0m \u001b[1;33m=\u001b[0m\u001b[1;34m'X'\u001b[0m\u001b[1;33m\u001b[0m\u001b[0m\n\u001b[0m",
      "\u001b[1;31mTypeError\u001b[0m: 'str' object does not support item assignment"
     ]
    }
   ],
   "source": [
    "myName[0] ='X'"
   ]
  },
  {
   "cell_type": "markdown",
   "metadata": {},
   "source": [
    "###### Tuples"
   ]
  },
  {
   "cell_type": "markdown",
   "metadata": {},
   "source": [
    "###### Tuples are very similar to lists in that they are heterogenenous sequences of data. The difference is that a tuple is immutable, like a string. A tuple cannot be changed. Tuples are written as comma-delimited values enclosed in parentheses."
   ]
  },
  {
   "cell_type": "code",
   "execution_count": 7,
   "metadata": {},
   "outputs": [
    {
     "name": "stdout",
     "output_type": "stream",
     "text": [
      "(2, True, 4.96)\n",
      "3\n",
      "2\n",
      "(2, True, 4.96, 2, True, 4.96, 2, True, 4.96)\n",
      "(2, True)\n"
     ]
    }
   ],
   "source": [
    "myTuple = (2, True, 4.96)\n",
    "print(myTuple)\n",
    "print(len(myTuple))\n",
    "print(myTuple[0])\n",
    "print(myTuple*3)\n",
    "print(myTuple[0:2])"
   ]
  },
  {
   "cell_type": "code",
   "execution_count": 8,
   "metadata": {},
   "outputs": [
    {
     "ename": "TypeError",
     "evalue": "'tuple' object does not support item assignment",
     "output_type": "error",
     "traceback": [
      "\u001b[1;31m---------------------------------------------------------------------------\u001b[0m",
      "\u001b[1;31mTypeError\u001b[0m                                 Traceback (most recent call last)",
      "\u001b[1;32m<ipython-input-8-e37974c169f6>\u001b[0m in \u001b[0;36m<module>\u001b[1;34m\u001b[0m\n\u001b[1;32m----> 1\u001b[1;33m \u001b[0mmyTuple\u001b[0m\u001b[1;33m[\u001b[0m\u001b[1;36m1\u001b[0m\u001b[1;33m]\u001b[0m \u001b[1;33m=\u001b[0m \u001b[1;32mFalse\u001b[0m\u001b[1;33m\u001b[0m\u001b[0m\n\u001b[0m",
      "\u001b[1;31mTypeError\u001b[0m: 'tuple' object does not support item assignment"
     ]
    }
   ],
   "source": [
    "myTuple[1] = False"
   ]
  },
  {
   "cell_type": "markdown",
   "metadata": {},
   "source": [
    "###### Set"
   ]
  },
  {
   "cell_type": "markdown",
   "metadata": {},
   "source": [
    "###### A set is an unordered collection of zero or more immutable Python data objects. Sets do not allow duplicates and are written as comma-delimited values enclosed in curly braces. The empty set is represented by set(). Sets are heterogeneous"
   ]
  },
  {
   "cell_type": "markdown",
   "metadata": {},
   "source": [
    "Operation Name\t      Operator\t      Explanation\n",
    "membership\t          in\t          Set membership\n",
    "length\t              len\t          Returns the cardinality of the set\n",
    "|\t               aset | otherset\t  Returns a new set with all elements from both sets\n",
    "&\t               aset & otherset\t  Returns a new set with only those elements common to both sets\n",
    "-\t               aset - otherset\t  Returns a new set with all items from the first set not in second\n",
    "<=\t               aset <= otherset\t  Asks whether all elements of the first set are in the second"
   ]
  },
  {
   "cell_type": "code",
   "execution_count": 9,
   "metadata": {},
   "outputs": [
    {
     "name": "stdout",
     "output_type": "stream",
     "text": [
      "{'Cat', False, 3, 4.5, 6}\n",
      "5\n",
      "True\n",
      "False\n"
     ]
    }
   ],
   "source": [
    "mySet = {3,6,'Cat',4.5,False}\n",
    "print(mySet)\n",
    "print(len(mySet))\n",
    "print(False in mySet)\n",
    "print(\"dog\" in mySet)"
   ]
  },
  {
   "cell_type": "markdown",
   "metadata": {},
   "source": [
    "Sets support a number of methods that should be familiar to those who have worked with them in a mathematics setting\n",
    "\n",
    "Method         Name\t                        Use\tExplanation\n",
    "union\t       aset.union(otherset)         Returns a new set with all elements from both sets\n",
    "intersection   aset.intersection(otherset)\tReturns a new set with only those elements common to both sets\n",
    "difference\t   aset.difference(otherset)\tReturns a new set with all items from first set not in second\n",
    "issubset\t   aset.issubset(otherset)\t    Asks whether all elements of one set are in the other\n",
    "add\t           aset.add(item)\t            Adds item to the set\n",
    "remove\t       aset.remove(item)\t        Removes item from the set\n",
    "pop\t           aset.pop()\t                Removes an arbitrary element from the set\n",
    "clear\t       aset.clear()\t                Removes all elements from the set"
   ]
  },
  {
   "cell_type": "code",
   "execution_count": 10,
   "metadata": {},
   "outputs": [
    {
     "name": "stdout",
     "output_type": "stream",
     "text": [
      "{'Cat', False, 3, 4.5, 6}\n",
      "{3, 99, 100}\n",
      "{False, 3, 4.5, 99, 6, 100, 'Cat'}\n",
      "{False, 3, 4.5, 99, 6, 100, 'Cat'}\n",
      "{3}\n",
      "{3}\n",
      "{'Cat', False, 4.5, 6}\n",
      "{'Cat', False, 4.5, 6}\n",
      "True\n",
      "---------\n",
      "{False, 3, 4.5, 6, 'house', 'Cat'}\n",
      "{False, 3, 6, 'house', 'Cat'}\n",
      "{3, 6, 'house', 'Cat'}\n",
      "set()\n"
     ]
    }
   ],
   "source": [
    "mySet = {3,6,'Cat',4.5,False}\n",
    "print(mySet)\n",
    "yourSet =  {99,3,100}\n",
    "print( yourSet)\n",
    "print( mySet.union(yourSet))\n",
    "print(mySet | yourSet)\n",
    "print( mySet.intersection(yourSet))\n",
    "print( mySet & yourSet)\n",
    "print( mySet.difference(yourSet))\n",
    "print( mySet - yourSet)\n",
    "print({3,100}.issubset(yourSet))\n",
    "print('---------')\n",
    "\n",
    "mySet.add(\"house\")\n",
    "print(mySet)\n",
    "mySet.remove(4.5)\n",
    "print(mySet)\n",
    "mySet.pop()\n",
    "print(mySet)\n",
    "mySet.clear()\n",
    "print(mySet)"
   ]
  },
  {
   "cell_type": "markdown",
   "metadata": {},
   "source": [
    "###### Dictionary"
   ]
  },
  {
   "cell_type": "markdown",
   "metadata": {},
   "source": [
    "Dictionaries are collections of associated pairs of items where each pair consists of a key and a value. This key-value pair is typically written as key:value. Dictionaries are written as comma-delimited key:value pairs enclosed in curly braces. "
   ]
  },
  {
   "cell_type": "code",
   "execution_count": 11,
   "metadata": {},
   "outputs": [
    {
     "name": "stdout",
     "output_type": "stream",
     "text": [
      "DesMoines\n",
      "{'Utah': 'SaltLakeCity', 'Wisconsin': 'Madison', 'Iowa': 'DesMoines'}\n",
      "4\n",
      "SaltLakeCity  is the capital of  Utah\n",
      "Madison  is the capital of  Wisconsin\n",
      "Sacramento  is the capital of  California\n",
      "DesMoines  is the capital of  Iowa\n"
     ]
    }
   ],
   "source": [
    "capitals = {'Iowa':'DesMoines','Wisconsin':'Madison'}\n",
    "print(capitals['Iowa'])\n",
    "capitals['Utah']='SaltLakeCity'\n",
    "print(capitals)\n",
    "capitals['California']='Sacramento'\n",
    "print(len(capitals))\n",
    "for k in capitals:\n",
    "   print(capitals[k],\" is the capital of \", k)"
   ]
  },
  {
   "cell_type": "markdown",
   "metadata": {},
   "source": [
    "\n",
    "Operator\tUse\t            Explanation\n",
    "[]\t      myDict[k]\t        Returns the value associated with k, otherwise its an error \n",
    "in\t      key in adict\t    Returns True if key is in the dictionary, False otherwise\n",
    "del\t      del adict[key]\tRemoves the entry from the dictionary"
   ]
  },
  {
   "cell_type": "markdown",
   "metadata": {},
   "source": [
    "\n",
    "Method          Name\t            Use\tExplanation\n",
    "keys\t        adict.keys()\t    Returns the keys of the dictionary in a dict_keys object\n",
    "values\t        adict.values()\t    Returns the values of the dictionary in a dict_values object\n",
    "items\t        adict.items()\t    Returns the key-value pairs in a dict_items object\n",
    "get\t            adict.get(k)\t    Returns the value associated with k, None otherwise\n",
    "get\t            adict.get(k,alt)\tReturns the value associated with k, alt otherwise"
   ]
  },
  {
   "cell_type": "code",
   "execution_count": 12,
   "metadata": {},
   "outputs": [
    {
     "name": "stdout",
     "output_type": "stream",
     "text": [
      "{'david': 1410, 'brad': 1137}\n",
      "dict_keys(['david', 'brad'])\n",
      "dict_values([1410, 1137])\n",
      "[1410, 1137]\n",
      "dict_items([('david', 1410), ('brad', 1137)])\n",
      "[('david', 1410), ('brad', 1137)]\n",
      "None\n",
      "NO ENTRY\n"
     ]
    }
   ],
   "source": [
    "phoneext = {'david':1410,'brad':1137}\n",
    "print(phoneext)\n",
    "\n",
    "print(phoneext.keys())\n",
    "print(phoneext.values())\n",
    "\n",
    "print(list(phoneext.values()))\n",
    "print(phoneext.items())\n",
    "\n",
    "print(list(phoneext.items()))\n",
    "print(phoneext.get(\"kent\"))\n",
    "print(phoneext.get(\"kent\",\"NO ENTRY\"))"
   ]
  }
 ],
 "metadata": {
  "kernelspec": {
   "display_name": "Python 3",
   "language": "python",
   "name": "python3"
  },
  "language_info": {
   "codemirror_mode": {
    "name": "ipython",
    "version": 3
   },
   "file_extension": ".py",
   "mimetype": "text/x-python",
   "name": "python",
   "nbconvert_exporter": "python",
   "pygments_lexer": "ipython3",
   "version": "3.5.4"
  }
 },
 "nbformat": 4,
 "nbformat_minor": 4
}
