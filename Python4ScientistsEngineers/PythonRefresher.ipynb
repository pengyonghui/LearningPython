{
 "cells": [
  {
   "cell_type": "markdown",
   "metadata": {},
   "source": [
    "### Python Refresher "
   ]
  },
  {
   "cell_type": "markdown",
   "metadata": {},
   "source": [
    "### **1. Some takeaways**\n",
    "\n",
    "- Data Types and Variables\n",
    "\n",
    "    Boolean: `True or False`    \n",
    "    Strings: `single or double quotation marks: \"\", or ''`    \n",
    "   Indexing: `square brackets [ ]`\n",
    "\n",
    "- Operators\n",
    "\n",
    "    Exponent:` **`\n",
    "    modulo:`%`\n",
    "    Floor Division: `//`\n",
    "    Equal to: `is`\n",
    "    Not equal to: ` is not`\n",
    "    \n",
    "- Conditional Statements\n",
    "\n",
    "    if condition `1` is true:        execute expression `1`    \n",
    "    if condition `2` is true:        execute expression `2`        \n",
    "    else:         execute expression `3`"
   ]
  },
  {
   "cell_type": "code",
   "execution_count": 1,
   "metadata": {},
   "outputs": [
    {
     "name": "stdout",
     "output_type": "stream",
     "text": [
      "(10+20j)\n",
      "2j\n",
      "(2+3j)\n",
      "z = (2+3j)\n",
      "Real part of z is 2.0\n",
      "Imaginary part of z is 3.0\n"
     ]
    }
   ],
   "source": [
    "print(complex(10,20))\n",
    "\n",
    "complex_1 = complex(0, 2)\n",
    "complex_2 = 2 + 3j\n",
    "print(complex_1)\n",
    "print(complex_2)\n",
    "print('z =', complex_2)\n",
    "\n",
    "print(\"Real part of z is\", complex_2.real)\n",
    "print(\"Imaginary part of z is\", complex_2.imag)\n"
   ]
  },
  {
   "cell_type": "markdown",
   "metadata": {},
   "source": [
    "#### **2. Loops**\n",
    "\n",
    "- For loops\n",
    "    \n",
    "    1. the name of the iterator\n",
    "    2. the sequence to be traversed\n",
    "    3. the set of operations to be perfermed    \n",
    "  \n",
    "<font color=blue> for </font> iterator <font color=blue> in </font> sequence:\n",
    "\n",
    "operations to be performed\n",
    "\n",
    "- While loops\n",
    "\n",
    "<font color=blue> while </font> condition <font color=blue> is </font> true:\n",
    "\n",
    "loops over these operations\n",
    "\n",
    "\n",
    "- The return statement\n",
    "\n",
    "To return something from a function, we must use the `return` keyword. Once the `return` statement is executed, the compiler returns control to the statement after the calling function. Any remaining lines of code after the`return` statement will not be executed.\n",
    "\n",
    "  "
   ]
  },
  {
   "cell_type": "markdown",
   "metadata": {},
   "source": [
    "#### **3. Changing parameter values**"
   ]
  },
  {
   "cell_type": "markdown",
   "metadata": {},
   "source": [
    "When **mutable** data is passed to a function, the function can modify or alter it and these modifications will stay in effect outside the function scope as well. An example of mutable data is a `list`.\n",
    "\n",
    "In the case of **immutable** data, the function can modify it, but the data will remain unchanged outside the function’s scope. Examples of immutable data are `numbers, strings`, etc."
   ]
  },
  {
   "cell_type": "code",
   "execution_count": 2,
   "metadata": {},
   "outputs": [
    {
     "name": "stdout",
     "output_type": "stream",
     "text": [
      "[10, 20, 30, 40]\n",
      "[100, 200, 300, 400]\n"
     ]
    }
   ],
   "source": [
    "num_list = [10, 20, 30, 40]\n",
    "print (num_list)\n",
    "\n",
    "def multiply_by_10(myList):\n",
    "    for i in range(len(myList)):\n",
    "        num_list[i] *= 10\n",
    "\n",
    "multiply_by_10(num_list)\n",
    "print (num_list) # The contents of the list have been changed"
   ]
  },
  {
   "cell_type": "code",
   "execution_count": 3,
   "metadata": {},
   "outputs": [
    {
     "name": "stdout",
     "output_type": "stream",
     "text": [
      "20\n"
     ]
    }
   ],
   "source": [
    "num = 20\n",
    "\n",
    "def multiply_by_10(n):\n",
    "    n *= 10             # Changing the value inside the function\n",
    "    return n\n",
    "\n",
    "multiply_by_10(num)\n",
    "print (num)             # The original value remains unchanged"
   ]
  },
  {
   "cell_type": "code",
   "execution_count": null,
   "metadata": {},
   "outputs": [],
   "source": []
  },
  {
   "cell_type": "markdown",
   "metadata": {},
   "source": [
    "#### **4. Lambdas**"
   ]
  },
  {
   "cell_type": "code",
   "execution_count": null,
   "metadata": {},
   "outputs": [],
   "source": []
  }
 ],
 "metadata": {
  "kernelspec": {
   "display_name": "Python 3",
   "language": "python",
   "name": "python3"
  },
  "language_info": {
   "codemirror_mode": {
    "name": "ipython",
    "version": 3
   },
   "file_extension": ".py",
   "mimetype": "text/x-python",
   "name": "python",
   "nbconvert_exporter": "python",
   "pygments_lexer": "ipython3",
   "version": "3.5.4"
  }
 },
 "nbformat": 4,
 "nbformat_minor": 4
}
