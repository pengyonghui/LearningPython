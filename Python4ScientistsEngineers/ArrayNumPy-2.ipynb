{
 "cells": [
  {
   "cell_type": "markdown",
   "metadata": {},
   "source": [
    "### **Introduction**\n",
    "`NumPy` ndarray is very similar to the Python `list` except that the array can only keep elements of the same type while the `list` can have different kinds of objects.\n",
    "\n",
    "Properties of NumPy arrays\n",
    "\n",
    "    Size - has the number of elements in the ndarray\n",
    "    Shape - is a tuple with the dimensions of the matrix stored in the form of (rows, columns)\n",
    "    Itemsize - bytes per element of the ndarray\n",
    "    Nbytes - total number of bytes of the ndarray\n",
    "    Ndim - dimensions of the ndarray\n",
    "    Dtype - data type of elements in ndarray\n",
    "\n"
   ]
  },
  {
   "cell_type": "code",
   "execution_count": 1,
   "metadata": {},
   "outputs": [
    {
     "name": "stdout",
     "output_type": "stream",
     "text": [
      "size of v is  3\n",
      "shape of v is  (3,)\n",
      "size of M is  12\n",
      "shape of M is  (3, 4)\n",
      "Bytes per element of M is 4\n",
      "Number of bytes of M are 48\n",
      "Dimensions of M are 2\n",
      "Data type of elements in M is int32\n"
     ]
    }
   ],
   "source": [
    "import numpy as np\n",
    "\n",
    "v = np.array([1, 5, 9])\n",
    "M = np.array([[4, 2, 3, 2],\n",
    "              [2, 4, 3, 1],\n",
    "              [0, 4, 1, 3]])\n",
    "\n",
    "print(\"size of v is \", v.size)\n",
    "print(\"shape of v is \", v.shape)\n",
    "\n",
    "print(\"size of M is \", M.size)\n",
    "print(\"shape of M is \", M.shape)\n",
    "\n",
    "print(\"Bytes per element of M is\", M.itemsize)\n",
    "print(\"Number of bytes of M are\", M.nbytes)\n",
    "print(\"Dimensions of M are\", M.ndim)\n",
    "print(\"Data type of elements in M is\", M.dtype)"
   ]
  },
  {
   "cell_type": "markdown",
   "metadata": {},
   "source": [
    "### **1. Vectors**"
   ]
  },
  {
   "cell_type": "markdown",
   "metadata": {},
   "source": [
    " Ways to create 1-D arrays  \n",
    " \n",
    "    - np.array([list of numbers])\n",
    "    - np.ones() or np.zeros()\n",
    "    - np.arange(start, end, step)\n",
    "    - np.linspace(start, end, size)"
   ]
  },
  {
   "cell_type": "code",
   "execution_count": null,
   "metadata": {},
   "outputs": [],
   "source": []
  },
  {
   "cell_type": "markdown",
   "metadata": {},
   "source": [
    "### **2. Multidimensional Arrays**\n",
    "\n",
    "    - [X, Y]  = np.meshgrid(x,y)"
   ]
  },
  {
   "cell_type": "code",
   "execution_count": 2,
   "metadata": {},
   "outputs": [
    {
     "name": "stdout",
     "output_type": "stream",
     "text": [
      "[[0 1 2 3 4]\n",
      " [0 1 2 3 4]\n",
      " [0 1 2 3 4]\n",
      " [0 1 2 3 4]\n",
      " [0 1 2 3 4]\n",
      " [0 1 2 3 4]]\n",
      "\n",
      "[[ 5  5  5  5  5]\n",
      " [ 6  6  6  6  6]\n",
      " [ 7  7  7  7  7]\n",
      " [ 8  8  8  8  8]\n",
      " [ 9  9  9  9  9]\n",
      " [10 10 10 10 10]]\n"
     ]
    }
   ],
   "source": [
    "import numpy as np\n",
    "\n",
    "x = np.arange(0,5)\n",
    "y = np.arange(5, 11)\n",
    "\n",
    "[X, Y] = np.meshgrid(x, y)\n",
    "print(X)\n",
    "print()\n",
    "print(Y)\n"
   ]
  },
  {
   "cell_type": "markdown",
   "metadata": {},
   "source": [
    "#### Reshaping\n",
    "\n"
   ]
  },
  {
   "cell_type": "code",
   "execution_count": 3,
   "metadata": {},
   "outputs": [
    {
     "name": "stdout",
     "output_type": "stream",
     "text": [
      "[[4 2 3 2]\n",
      " [2 4 3 1]\n",
      " [0 4 1 3]]\n",
      "\n",
      "[[4 2 3 2 2 4]\n",
      " [3 1 0 4 1 3]]\n",
      "\n",
      "[[4 2 3 2 2 4 3 1 0 4 1 3]]\n"
     ]
    }
   ],
   "source": [
    "import numpy as np\n",
    "\n",
    "x = np.array([[4, 2, 3, 2],\n",
    "              [2, 4, 3, 1],\n",
    "              [0, 4, 1, 3]])\n",
    "print(x)\n",
    "print()\n",
    "print(np.reshape(x, (2, 6)))  # 2 rows, 6 columns\n",
    "print()\n",
    "print(np.reshape(x, (1, 12)))  # 1 row, 12 columns"
   ]
  },
  {
   "cell_type": "code",
   "execution_count": 4,
   "metadata": {},
   "outputs": [
    {
     "data": {
      "text/plain": [
       "array([ 1.  ,  5.75, 10.5 , 15.25, 20.  ])"
      ]
     },
     "execution_count": 4,
     "metadata": {},
     "output_type": "execute_result"
    }
   ],
   "source": [
    "np.linspace(1, 20, 5)"
   ]
  },
  {
   "cell_type": "code",
   "execution_count": 5,
   "metadata": {},
   "outputs": [
    {
     "name": "stdout",
     "output_type": "stream",
     "text": [
      "[ 1  7 13 19 25 31 37 43 49]\n"
     ]
    }
   ],
   "source": [
    "print(np.arange(1, 50, 6))"
   ]
  },
  {
   "cell_type": "code",
   "execution_count": 6,
   "metadata": {},
   "outputs": [
    {
     "name": "stdout",
     "output_type": "stream",
     "text": [
      "[[0 1 2]\n",
      " [0 1 2]\n",
      " [0 1 2]\n",
      " [0 1 2]]\n",
      "\n",
      "[[4 4 4]\n",
      " [5 5 5]\n",
      " [6 6 6]\n",
      " [7 7 7]]\n"
     ]
    }
   ],
   "source": [
    "x = np.arange(0, 3)\n",
    "y = np.arange(4, 8)\n",
    " \n",
    "[X, Y] = np.meshgrid(x, y)\n",
    "print(X)\n",
    "print()\n",
    "print(Y)"
   ]
  },
  {
   "cell_type": "code",
   "execution_count": null,
   "metadata": {},
   "outputs": [],
   "source": []
  },
  {
   "cell_type": "markdown",
   "metadata": {},
   "source": [
    "### **3. Indexing Arrays**"
   ]
  },
  {
   "cell_type": "markdown",
   "metadata": {},
   "source": [
    "Index slicing is a technique to extract a part of an array\n",
    "\n",
    "array[lower : upper : step] \n",
    "\n",
    "   - array indices from ‘lower’ to ‘upper - 1’ in increments of size ‘step’ are included.\n",
    "    \n",
    "   - default value of\n",
    "   \n",
    "   `lower` is 0.\n",
    "   \n",
    "   `upper` is equal to the size property of the array.\n",
    "   \n",
    "   `step` is 1.\n"
   ]
  },
  {
   "cell_type": "code",
   "execution_count": 7,
   "metadata": {},
   "outputs": [
    {
     "name": "stdout",
     "output_type": "stream",
     "text": [
      "[5 7]\n"
     ]
    }
   ],
   "source": [
    "import numpy as np\n",
    "\n",
    "v = np.array([1, 3, 5, 7, 9, 11])\n",
    "print(v[2:4]) # 4th element will not be included"
   ]
  },
  {
   "cell_type": "code",
   "execution_count": 8,
   "metadata": {},
   "outputs": [
    {
     "name": "stdout",
     "output_type": "stream",
     "text": [
      "[ 5  7  9 11]\n",
      "[1 3]\n",
      "[1 5 9]\n"
     ]
    }
   ],
   "source": [
    "import numpy as np\n",
    "\n",
    "v = np.array([1, 3, 5, 7, 9, 11])\n",
    "print(v[2::])\n",
    "print(v[:2:])\n",
    "print(v[::2])"
   ]
  },
  {
   "cell_type": "code",
   "execution_count": 9,
   "metadata": {},
   "outputs": [
    {
     "name": "stdout",
     "output_type": "stream",
     "text": [
      "[[ 0  1  2  3  4]\n",
      " [20 21 22 23 24]\n",
      " [40 41 42 43 44]\n",
      " [60 61 62 63 64]\n",
      " [80 81 82 83 84]]\n",
      "------\n",
      "[[21 22]\n",
      " [41 42]\n",
      " [61 62]]\n"
     ]
    }
   ],
   "source": [
    "import numpy as np\n",
    "M = np.array([[(n + m * 20) for n in range(5)] for m in range(5)])\n",
    "\n",
    "print(M)\n",
    "print(\"------\")\n",
    "print(M[1:4, 1:3]) # slice rows 1, 2 and 3 and columns 1 and 2 "
   ]
  },
  {
   "cell_type": "code",
   "execution_count": null,
   "metadata": {},
   "outputs": [],
   "source": []
  },
  {
   "cell_type": "markdown",
   "metadata": {},
   "source": [
    "### **4. Array Operations**"
   ]
  },
  {
   "cell_type": "code",
   "execution_count": 10,
   "metadata": {},
   "outputs": [
    {
     "name": "stdout",
     "output_type": "stream",
     "text": [
      "[ 1  2  3  4  5  6  7  8  9 10]\n",
      "-----\n",
      "Using scalar addition\n",
      "[ 3  4  5  6  7  8  9 10 11 12]\n",
      "-----\n",
      "Using scalar subtraction\n",
      "[-1  0  1  2  3  4  5  6  7  8]\n",
      "-----\n",
      "Using scalar multiplication\n",
      "[ 2  4  6  8 10 12 14 16 18 20]\n",
      "-----\n",
      "Using scalar division\n",
      "[0.5 1.  1.5 2.  2.5 3.  3.5 4.  4.5 5. ]\n"
     ]
    }
   ],
   "source": [
    "import numpy as np\n",
    "\n",
    "v = np.arange(1, 11)\n",
    "print(v) \n",
    "\n",
    "print(\"-----\")\n",
    "print(\"Using scalar addition\")\n",
    "print(v + 2) # adding 2 to each element in the vector\n",
    "\n",
    "print(\"-----\")\n",
    "print(\"Using scalar subtraction\")\n",
    "print(v - 2) # subtracting 2 from each element in the vector\n",
    "\n",
    "print(\"-----\")\n",
    "print(\"Using scalar multiplication\")\n",
    "print(v * 2) # multiplying each element by 2 in the vector\n",
    "\n",
    "print(\"-----\")\n",
    "print(\"Using scalar division\")\n",
    "print(v / 2) # dividing each element by 2 in the vector"
   ]
  },
  {
   "cell_type": "code",
   "execution_count": 11,
   "metadata": {},
   "outputs": [
    {
     "name": "stdout",
     "output_type": "stream",
     "text": [
      "[[ 0  1  2  3  4]\n",
      " [20 21 22 23 24]\n",
      " [40 41 42 43 44]\n",
      " [60 61 62 63 64]\n",
      " [80 81 82 83 84]]\n",
      "-----\n",
      "Using scalar addition\n",
      "[[ 2  3  4  5  6]\n",
      " [22 23 24 25 26]\n",
      " [42 43 44 45 46]\n",
      " [62 63 64 65 66]\n",
      " [82 83 84 85 86]]\n",
      "-----\n",
      "Using scalar subtraction\n",
      "[[-2 -1  0  1  2]\n",
      " [18 19 20 21 22]\n",
      " [38 39 40 41 42]\n",
      " [58 59 60 61 62]\n",
      " [78 79 80 81 82]]\n",
      "-----\n",
      "Using scalar multiplication\n",
      "[[  0   2   4   6   8]\n",
      " [ 40  42  44  46  48]\n",
      " [ 80  82  84  86  88]\n",
      " [120 122 124 126 128]\n",
      " [160 162 164 166 168]]\n",
      "-----\n",
      "Using scalar division\n",
      "[[ 0.   0.5  1.   1.5  2. ]\n",
      " [10.  10.5 11.  11.5 12. ]\n",
      " [20.  20.5 21.  21.5 22. ]\n",
      " [30.  30.5 31.  31.5 32. ]\n",
      " [40.  40.5 41.  41.5 42. ]]\n"
     ]
    }
   ],
   "source": [
    "import numpy as np\n",
    "\n",
    "M = np.array([[(n + m * 20) for n in range(5)] for m in range(5)])\n",
    "print(M) \n",
    "\n",
    "print(\"-----\")\n",
    "print(\"Using scalar addition\")\n",
    "print(M + 2) # adding 2 to each element in the matrix\n",
    "\n",
    "print(\"-----\")\n",
    "print(\"Using scalar subtraction\")\n",
    "print(M - 2) # subtracting 2 from each element in the matrix\n",
    "\n",
    "print(\"-----\")\n",
    "print(\"Using scalar multiplication\")\n",
    "print(M * 2) # multiplying each element by 2 in the matrix\n",
    "\n",
    "print(\"-----\")\n",
    "print(\"Using scalar division\")\n",
    "print(M / 2) # dividing each element by 2 in the matrix"
   ]
  },
  {
   "cell_type": "code",
   "execution_count": 12,
   "metadata": {},
   "outputs": [
    {
     "name": "stdout",
     "output_type": "stream",
     "text": [
      "M\n",
      "[[ 0  1  2]\n",
      " [ 5  6  7]\n",
      " [10 11 12]]\n",
      "N\n",
      "[[ 0  5 10]\n",
      " [ 0  5 10]\n",
      " [ 0  5 10]]\n",
      "-----\n",
      "M * M\n",
      "[[  0   1   4]\n",
      " [ 25  36  49]\n",
      " [100 121 144]]\n",
      "-----\n",
      "M + M\n",
      "[[ 0  2  4]\n",
      " [10 12 14]\n",
      " [20 22 24]]\n",
      "-----\n",
      "M - N\n",
      "[[ 0 -4 -8]\n",
      " [ 5  1 -3]\n",
      " [10  6  2]]\n",
      "-----\n",
      "(M + 1) / (N + 2)\n",
      "[[0.5        0.28571429 0.25      ]\n",
      " [3.         1.         0.66666667]\n",
      " [5.5        1.71428571 1.08333333]]\n"
     ]
    }
   ],
   "source": [
    "import numpy as np\n",
    "\n",
    "M = np.array([[(n + m * 5) for n in range(3)] for m in range(3)])\n",
    "print(\"M\")\n",
    "print(M) \n",
    "\n",
    "N = np.array([[(n * 5) for n in range(3)] for m in range(3)])\n",
    "print(\"N\")\n",
    "print(N) \n",
    "\n",
    "print(\"-----\")\n",
    "print(\"M * M\")\n",
    "print(M * M) # multiplication\n",
    "\n",
    "print(\"-----\")\n",
    "print(\"M + M\") # addition\n",
    "print(M + M)\n",
    "\n",
    "print(\"-----\")\n",
    "print(\"M - N\") # subtraction\n",
    "print(M - N)\n",
    "\n",
    "print(\"-----\")\n",
    "print(\"(M + 1) / (N + 2)\")\n",
    "print((M + 1) / (N + 2)) # division \n",
    "                         # to avoid division by zero, we have added scalar 1"
   ]
  },
  {
   "cell_type": "markdown",
   "metadata": {},
   "source": [
    "####  As a rule of thumb\n",
    "   If there is an operation between `two matrices`, they should have exactly the same shape.\n",
    "    \n",
    "   If there is an operation between a `vector` and a `matrix`, then the number of rows or the number of columns should be the same.\n"
   ]
  },
  {
   "cell_type": "markdown",
   "metadata": {},
   "source": [
    "**The column vector is multiplied element-wise by each column of the matrix.**"
   ]
  },
  {
   "cell_type": "code",
   "execution_count": 13,
   "metadata": {},
   "outputs": [
    {
     "name": "stdout",
     "output_type": "stream",
     "text": [
      "M\n",
      "[[ 0  1  2  3]\n",
      " [ 5  6  7  8]\n",
      " [10 11 12 13]\n",
      " [15 16 17 18]\n",
      " [20 21 22 23]]\n",
      "N\n",
      "[[1]\n",
      " [2]\n",
      " [3]\n",
      " [4]\n",
      " [5]]\n",
      "-----\n",
      "N * M\n",
      "[[  0   1   2   3]\n",
      " [ 10  12  14  16]\n",
      " [ 30  33  36  39]\n",
      " [ 60  64  68  72]\n",
      " [100 105 110 115]]\n",
      "-----\n",
      "M * N\n",
      "[[  0   1   2   3]\n",
      " [ 10  12  14  16]\n",
      " [ 30  33  36  39]\n",
      " [ 60  64  68  72]\n",
      " [100 105 110 115]]\n"
     ]
    }
   ],
   "source": [
    "import numpy as np\n",
    "\n",
    "M = np.array([[(n + m * 5) for n in range(4)] for m in range(5)])\n",
    "print(\"M\")\n",
    "print(M) \n",
    "\n",
    "N = np.array([[1], [2], [3], [4], [5]])\n",
    "print(\"N\")\n",
    "print(N)\n",
    "\n",
    "print(\"-----\")\n",
    "print(\"N * M\")\n",
    "print(N * M)\n",
    "print(\"-----\")\n",
    "print(\"M * N\")\n",
    "print(M*N)"
   ]
  },
  {
   "cell_type": "markdown",
   "metadata": {},
   "source": [
    "**The row vector is multiplied element-wise by each row of the matrix.**"
   ]
  },
  {
   "cell_type": "code",
   "execution_count": 14,
   "metadata": {},
   "outputs": [
    {
     "name": "stdout",
     "output_type": "stream",
     "text": [
      "M\n",
      "[[ 0  1  2  3]\n",
      " [ 5  6  7  8]\n",
      " [10 11 12 13]\n",
      " [15 16 17 18]\n",
      " [20 21 22 23]]\n",
      "N\n",
      "[1 2 3 4]\n",
      "-----\n",
      "N * M\n",
      "[[ 0  2  6 12]\n",
      " [ 5 12 21 32]\n",
      " [10 22 36 52]\n",
      " [15 32 51 72]\n",
      " [20 42 66 92]]\n",
      "-----\n",
      "M * N\n",
      "[[ 0  2  6 12]\n",
      " [ 5 12 21 32]\n",
      " [10 22 36 52]\n",
      " [15 32 51 72]\n",
      " [20 42 66 92]]\n"
     ]
    }
   ],
   "source": [
    "import numpy as np\n",
    "\n",
    "M = np.array([[(n + m * 5) for n in range(4)] for m in range(5)])\n",
    "print(\"M\")\n",
    "print(M)        # 5 rows and 4 columns\n",
    "\n",
    "N = np.array([1, 2, 3, 4])\n",
    "print(\"N\")\n",
    "print(N)        # 1 row and 4 columns\n",
    "\n",
    "print(\"-----\")\n",
    "print(\"N * M\")\n",
    "print(N * M)\n",
    "print(\"-----\")\n",
    "print(\"M * N\")\n",
    "print(M*N)"
   ]
  },
  {
   "cell_type": "code",
   "execution_count": null,
   "metadata": {},
   "outputs": [],
   "source": []
  },
  {
   "cell_type": "markdown",
   "metadata": {},
   "source": [
    "### **5. Data Processing**"
   ]
  },
  {
   "cell_type": "markdown",
   "metadata": {},
   "source": [
    "$$ \\sigma = \\sqrt{\\frac{1}{n} \\sum_{i=1}^n (a-\\bar{a})^2} $$\n",
    "\n",
    "$$variance = \\sigma^2$$\n",
    "   - `arr.real` will return an array with the real parts of `arr`.\n",
    "   - `arr.imag` will return an array with the imaginary parts of `arr`.\n",
    "   - `sum` - returns the sum of all elements in the array\n",
    "   - `prod` - returns the product of all elements in the array\n",
    "   - `cumsum` - returns an array with the cumulative sum of all elements in the array\n",
    "   - `cumprod` - returns an array with the cumulative product of all elements in the array\n",
    "\n"
   ]
  },
  {
   "cell_type": "markdown",
   "metadata": {},
   "source": [
    "#### **5.1 Using conditions on arrays**"
   ]
  },
  {
   "cell_type": "code",
   "execution_count": 15,
   "metadata": {},
   "outputs": [
    {
     "name": "stdout",
     "output_type": "stream",
     "text": [
      "the total array: [0 1 2 3 4 5 6 7 8 9]\n",
      "array of booleans: [ True  True  True  True  True False False False False False]\n",
      "values less than 5: [0 1 2 3 4]\n",
      "values in a that is less than 5 was replaced with 666:  [666 666 666 666 666   5   6   7   8   9]\n"
     ]
    }
   ],
   "source": [
    "import numpy as np\n",
    "\n",
    "a = np.arange(10)\n",
    "print('the total array:', a)\n",
    "print(\"array of booleans:\", a < 5)\n",
    "print('values less than 5:', a[a < 5])\n",
    "a[a<5] = 666\n",
    "print('values in a that is less than 5 was replaced with 666: ', a)"
   ]
  },
  {
   "cell_type": "code",
   "execution_count": 16,
   "metadata": {},
   "outputs": [
    {
     "name": "stdout",
     "output_type": "stream",
     "text": [
      "[ 0  1  2  3  4  5  6  7  8  9 10 11 12 13 14 15 16 17 18 19]\n",
      "\n",
      "[  0   1   2   3   4   5 666 666 666 666  10  11  12  13  14  15  16  17\n",
      "  18  19]\n",
      "\n",
      "[666 666 666 666 666 666 666 666 666 666 666 666 666 666 666 666 666 666\n",
      " 666 666]\n"
     ]
    }
   ],
   "source": [
    "import numpy as np\n",
    "\n",
    "a = np.arange(20)\n",
    "print(a)\n",
    "print()\n",
    "a[(a > 5) & (a < 10)] = 666\n",
    "print(a)\n",
    "print()\n",
    "a[(a > 5) | (a < 10)] = 666\n",
    "print(a)"
   ]
  },
  {
   "cell_type": "markdown",
   "metadata": {},
   "source": [
    "**`any()` and `all()`**"
   ]
  },
  {
   "cell_type": "markdown",
   "metadata": {},
   "source": [
    "1.  **`any()`** returns **True** if the conditional statement is satisfied for some elements of the array.\n",
    "2.  **`all()`** returns **True** if the conditional statement is satisfied for all the elements of the array.\n"
   ]
  },
  {
   "cell_type": "markdown",
   "metadata": {},
   "source": [
    "#### **5.2 Iterating elements in arrays**\n"
   ]
  },
  {
   "cell_type": "markdown",
   "metadata": {},
   "source": [
    "##### One-Dimensional arrays"
   ]
  },
  {
   "cell_type": "code",
   "execution_count": 17,
   "metadata": {},
   "outputs": [
    {
     "name": "stdout",
     "output_type": "stream",
     "text": [
      "1\n",
      "2\n",
      "3\n",
      "4\n"
     ]
    }
   ],
   "source": [
    "import numpy as np \n",
    "\n",
    "v = np.array([1, 2, 3, 4])\n",
    "for x in v:\n",
    "    print(x)"
   ]
  },
  {
   "cell_type": "markdown",
   "metadata": {},
   "source": [
    "##### Multi-Dimensional arrays"
   ]
  },
  {
   "cell_type": "code",
   "execution_count": 18,
   "metadata": {},
   "outputs": [
    {
     "name": "stdout",
     "output_type": "stream",
     "text": [
      "1\n",
      "2\n",
      "3\n",
      "4\n",
      "5\n",
      "6\n",
      "7\n",
      "8\n"
     ]
    }
   ],
   "source": [
    "import numpy as np \n",
    "\n",
    "M = np.array([[1, 2, 3, 4], [5, 6, 7, 8]])\n",
    "for x in M:\n",
    "    for y in x:\n",
    "        print(y)"
   ]
  },
  {
   "cell_type": "markdown",
   "metadata": {},
   "source": [
    "#### **5.3 Vectorizing function**\n",
    "\n",
    "1. faster than the iterative approach because the code has a quicker run time.\n",
    "2. The first step to converting a scalar algorithm into a vectorized algorithm is to make sure that the functions we write work with vector inputs."
   ]
  },
  {
   "cell_type": "markdown",
   "metadata": {},
   "source": [
    "import numpy as np\n",
    "\n",
    "def is_negative(x):\n",
    "    if x < 0:\n",
    "        return True\n",
    "    else:\n",
    "        return False\n",
    "\n",
    "v = np.linspace(-5, 5, 5)\n",
    "print(is_negative(v)) # this will throw an error"
   ]
  },
  {
   "cell_type": "code",
   "execution_count": 19,
   "metadata": {},
   "outputs": [
    {
     "name": "stdout",
     "output_type": "stream",
     "text": [
      "[-5.  -2.5  0.   2.5  5. ]\n",
      "[ True  True False False False]\n"
     ]
    }
   ],
   "source": [
    "import numpy as np\n",
    "\n",
    "def is_negative(x):\n",
    "    if x < 0:\n",
    "        return True\n",
    "    else:\n",
    "        return False\n",
    "\n",
    "vec_is_negative = np.vectorize(is_negative)# vectorizing the function isNegative\n",
    "v = np.linspace(-5, 5, 5)\n",
    "print(v)\n",
    "print(vec_is_negative(v)) "
   ]
  },
  {
   "cell_type": "markdown",
   "metadata": {},
   "source": [
    "#### **5.4 Copying arrays**"
   ]
  },
  {
   "cell_type": "code",
   "execution_count": 20,
   "metadata": {},
   "outputs": [
    {
     "name": "stdout",
     "output_type": "stream",
     "text": [
      "a = [0 1 2 3 4 5]\n",
      "b = [0 1 2 3 4 5]\n",
      "After replacing value in b\n",
      "a = [  0   1   2 666   4   5]\n",
      "b = [  0   1   2 666   4   5]\n"
     ]
    }
   ],
   "source": [
    "import numpy as np\n",
    "\n",
    "a = np.arange(6)\n",
    "print(\"a =\", a)\n",
    "b = a           # a is passed by reference and b is referring to same data as a\n",
    "print(\"b =\", b)\n",
    "b[3] = 666      # changing in b will also change the value in a\n",
    "\n",
    "print(\"After replacing value in b\")\n",
    "print(\"a =\", a) # value is replaced in a as well\n",
    "print(\"b =\", b)"
   ]
  },
  {
   "cell_type": "markdown",
   "metadata": {},
   "source": [
    "To avoid this behavior and make `b` a completely independent object, we use the function `copy`."
   ]
  },
  {
   "cell_type": "code",
   "execution_count": 21,
   "metadata": {},
   "outputs": [
    {
     "name": "stdout",
     "output_type": "stream",
     "text": [
      "a = [0 1 2 3 4 5]\n",
      "b = [0 1 2 3 4 5]\n",
      "After replacing value in b\n",
      "a = [0 1 2 3 4 5]\n",
      "b = [  0   1   2 666   4   5]\n"
     ]
    }
   ],
   "source": [
    "import numpy as np\n",
    "\n",
    "a = np.arange(6)\n",
    "print(\"a =\", a)\n",
    "b = np.copy(a)       # a is copied in b\n",
    "print(\"b =\", b)\n",
    "b[3] = 666      # changing in b will not change a\n",
    "\n",
    "print(\"After replacing value in b\")\n",
    "print(\"a =\", a) \n",
    "print(\"b =\", b)"
   ]
  },
  {
   "cell_type": "markdown",
   "metadata": {},
   "source": [
    "#### **6. Exercise**"
   ]
  },
  {
   "cell_type": "code",
   "execution_count": 22,
   "metadata": {},
   "outputs": [
    {
     "name": "stdout",
     "output_type": "stream",
     "text": [
      "[ 4  7 10 13 16 19 22 25 28 31 34 37 40 43 46 49 52 55 58 61 64 67 70 73\n",
      " 76 79 82 85 88 91 94 97]\n",
      "\n",
      "[ 3  6  9 12 15 18 21 24 27 30 33 36 39 42 45 48 51 54 57 60 63 66 69 72\n",
      " 75 78 81 84 87 90 93 96 99]\n"
     ]
    }
   ],
   "source": [
    "import numpy as np\n",
    "\n",
    "arr = np.arange(1,100)\n",
    "print(arr[3:100:3])\n",
    "print()\n",
    "print(arr[2:100:3])"
   ]
  },
  {
   "cell_type": "markdown",
   "metadata": {},
   "source": [
    "##### **Accessing 2D arrays**"
   ]
  },
  {
   "cell_type": "code",
   "execution_count": 23,
   "metadata": {},
   "outputs": [
    {
     "name": "stdout",
     "output_type": "stream",
     "text": [
      "[[4 2 3 2]\n",
      " [2 4 3 1]\n",
      " [2 4 1 3]\n",
      " [4 1 2 3]]\n",
      "\n",
      "the first row of arr: \n",
      "[4 2 3 2]\n",
      "----------\n",
      "the first column of arr: \n",
      "[4 2 2 4]\n",
      "----------\n",
      "the third row of arr: \n",
      "[2 4 1 3]\n",
      "----------\n",
      "the last two columns of arr: \n",
      "[[3 2]\n",
      " [3 1]\n",
      " [1 3]\n",
      " [2 3]]\n",
      "----------\n",
      "the 2 by 2 block of values in the upper right-hand corner of arr: \n",
      "[[3 2]\n",
      " [3 1]]\n",
      "----------\n",
      "the 2 by 2 block of values at the center of arr: \n",
      "[[4 3]\n",
      " [4 1]]\n",
      "----------\n"
     ]
    }
   ],
   "source": [
    "import numpy as np\n",
    "\n",
    "arr = np.array([[4, 2, 3, 2], [2, 4, 3, 1], [2, 4, 1, 3], [4, 1, 2, 3]])\n",
    "print(arr)\n",
    "print()\n",
    "print('the first row of arr: ')\n",
    "print(arr[0,:])\n",
    "print('----------')\n",
    "print('the first column of arr: ')\n",
    "print(arr[:,0])\n",
    "print('----------')\n",
    "print('the third row of arr: ')\n",
    "print(arr[2,:])\n",
    "print('----------')\n",
    "print('the last two columns of arr: ')\n",
    "print(arr[:,-2:])\n",
    "print('----------')\n",
    "print('the 2 by 2 block of values in the upper right-hand corner of arr: ')\n",
    "print(arr[:2,2:])\n",
    "print('----------')\n",
    "print('the 2 by 2 block of values at the center of arr: ')\n",
    "print(arr[1:3,1:3])\n",
    "print('----------')"
   ]
  },
  {
   "cell_type": "markdown",
   "metadata": {},
   "source": [
    "##### **Using conditions on arrays**"
   ]
  },
  {
   "cell_type": "code",
   "execution_count": 24,
   "metadata": {},
   "outputs": [
    {
     "name": "stdout",
     "output_type": "stream",
     "text": [
      "[0.         0.33069396 0.66138793 0.99208189 1.32277585 1.65346982\n",
      " 1.98416378 2.31485774 2.64555171 2.97624567 3.30693964 3.6376336\n",
      " 3.96832756 4.29902153 4.62971549 4.96040945 5.29110342 5.62179738\n",
      " 5.95249134 6.28318531]\n",
      "[ 0.00000000e+00  3.24699469e-01  6.14212713e-01  8.37166478e-01\n",
      "  9.69400266e-01  9.96584493e-01  9.15773327e-01  7.35723911e-01\n",
      "  4.75947393e-01  1.64594590e-01 -1.64594590e-01 -4.75947393e-01\n",
      " -7.35723911e-01 -9.15773327e-01 -9.96584493e-01 -9.69400266e-01\n",
      " -8.37166478e-01 -6.14212713e-01 -3.24699469e-01 -2.44929360e-16]\n",
      "[ 0.83716648  0.96940027  0.99658449  0.91577333  0.73572391 -0.73572391\n",
      " -0.91577333 -0.99658449 -0.96940027 -0.83716648 -0.61421271]\n",
      "[ 0.00000000e+00  3.24699469e-01  6.14212713e-01  4.75947393e-01\n",
      "  1.64594590e-01 -1.64594590e-01 -4.75947393e-01 -3.24699469e-01\n",
      " -2.44929360e-16]\n"
     ]
    }
   ],
   "source": [
    "import numpy as np\n",
    "# 1. creating an array for variable x consisting of 20 values from 0 to 2pi\n",
    "x = np.linspace(0, 2*np.pi, 20)\n",
    "print(x)\n",
    "# 2. compute sin(x) and store it in a var y\n",
    "y = np.sin(x)\n",
    "print(y)\n",
    "# 3. store all values of y that are greater than 0.7 or less than -0.5 in one array\n",
    "y_one = y[(y>0.7) | (y<-0.5)]\n",
    "print(y_one)\n",
    "# 4. store all values of y that are greater than -0.5 and less than 0.7 in another array\n",
    "y_two = y[(y>-0.5) & (y<0.7)]\n",
    "print(y_two)"
   ]
  }
 ],
 "metadata": {
  "kernelspec": {
   "display_name": "Python 3",
   "language": "python",
   "name": "python3"
  },
  "language_info": {
   "codemirror_mode": {
    "name": "ipython",
    "version": 3
   },
   "file_extension": ".py",
   "mimetype": "text/x-python",
   "name": "python",
   "nbconvert_exporter": "python",
   "pygments_lexer": "ipython3",
   "version": "3.5.4"
  }
 },
 "nbformat": 4,
 "nbformat_minor": 4
}
