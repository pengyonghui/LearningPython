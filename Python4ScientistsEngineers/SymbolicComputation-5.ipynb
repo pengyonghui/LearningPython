{
 "cells": [
  {
   "cell_type": "markdown",
   "metadata": {},
   "source": [
    "## **1. Symbols and Complex Numbers**"
   ]
  },
  {
   "cell_type": "code",
   "execution_count": 1,
   "metadata": {},
   "outputs": [
    {
     "name": "stdout",
     "output_type": "stream",
     "text": [
      "x + y + z\n",
      "x\n"
     ]
    }
   ],
   "source": [
    "from sympy import *\n",
    "\n",
    "x = Symbol('x', real = True, positive = True)\n",
    "y,z = symbols('y z')\n",
    "\n",
    "print(x + y + z)\n",
    "print(sqrt(x**2))"
   ]
  },
  {
   "cell_type": "code",
   "execution_count": 2,
   "metadata": {},
   "outputs": [
    {
     "name": "stdout",
     "output_type": "stream",
     "text": [
      "sqrt(x**2)\n"
     ]
    }
   ],
   "source": [
    "x =  Symbol('x')\n",
    "print(sqrt(x**2))"
   ]
  },
  {
   "cell_type": "code",
   "execution_count": 3,
   "metadata": {
    "jupyter": {
     "source_hidden": true
    }
   },
   "outputs": [
    {
     "name": "stdout",
     "output_type": "stream",
     "text": [
      "Type of y is <class 'sympy.core.add.Add'>\n",
      "Type of y is <class 'complex'>\n"
     ]
    }
   ],
   "source": [
    "x = 2+5*I\n",
    "print(\"Type of y is\", type(x))\n",
    "\n",
    "y = complex(x) # converting x  to python complex type\n",
    "print(\"Type of y is\", type(y))"
   ]
  },
  {
   "cell_type": "code",
   "execution_count": null,
   "metadata": {},
   "outputs": [],
   "source": []
  },
  {
   "cell_type": "markdown",
   "metadata": {},
   "source": [
    "## **2. Numerical Evaluation**\n",
    "数值估计"
   ]
  },
  {
   "cell_type": "markdown",
   "metadata": {},
   "source": [
    "### \n",
    "The rational class represents a rational number as a pair of two integers: the numerator and the denominator.\n",
    "有理类将有理数表示为两个整数对：分子和分母。"
   ]
  },
  {
   "cell_type": "code",
   "execution_count": 4,
   "metadata": {},
   "outputs": [
    {
     "name": "stdout",
     "output_type": "stream",
     "text": [
      "Addition: 22/15\n",
      "Subtraction: 2/15\n",
      "Multiplication: 8/15\n",
      "Division: 6/5\n"
     ]
    }
   ],
   "source": [
    "from sympy import *\n",
    "\n",
    "a = Rational(4, 5) # 4/5\n",
    "b = Rational(4, 6)# 4/6 = 2/3\n",
    "\n",
    "print(\"Addition:\", a + b)\n",
    "print(\"Subtraction:\", a - b)\n",
    "print(\"Multiplication:\", a * b)\n",
    "print(\"Division:\", a / b)"
   ]
  },
  {
   "cell_type": "markdown",
   "metadata": {},
   "source": [
    "### \n",
    "\n",
    "The `evalf()` method converts a constant symbolic expression to a `Float` with the specified amount of precision.\n"
   ]
  },
  {
   "cell_type": "code",
   "execution_count": 5,
   "metadata": {},
   "outputs": [
    {
     "name": "stdout",
     "output_type": "stream",
     "text": [
      "Addition: 1.466666667\n",
      "Subtraction: 0.1333333333\n",
      "Multiplication: 0.5333333333\n",
      "Division: 1.200000000\n"
     ]
    }
   ],
   "source": [
    "from sympy import *\n",
    "\n",
    "a = Rational(4, 5) # 4/5\n",
    "b = Rational(4, 6)# 4/6 = 2/3\n",
    "\n",
    "print(\"Addition:\", (a + b).evalf(10))\n",
    "print(\"Subtraction:\", (a - b).evalf(10))\n",
    "print(\"Multiplication:\", (a * b).evalf(10))\n",
    "print(\"Division:\", (a / b).evalf(10))"
   ]
  },
  {
   "cell_type": "markdown",
   "metadata": {},
   "source": [
    "### Substituting values in an expression\n",
    "\n",
    "`subs()` takes a dictionary as an input with the variables as the keys and its associated values as the substituting value:\n",
    "\n",
    "` expression.subs({'symbol_1': value_1, 'symbol_2': value_2 ....  })`\n",
    "\n",
    "$$ z = 2y^3 + 3x^2 + 2 $$\n",
    "with $y = 2$ and $x = 3$"
   ]
  },
  {
   "cell_type": "code",
   "execution_count": 6,
   "metadata": {},
   "outputs": [
    {
     "name": "stdout",
     "output_type": "stream",
     "text": [
      "45\n"
     ]
    }
   ],
   "source": [
    "from sympy import *\n",
    "\n",
    "x, y, z = symbols('x, y, z')\n",
    "\n",
    "z = (2 * y**3) + (3 * x**2) + 2\n",
    "output = z.subs({'y': 2, 'x': 3})\n",
    "print(output)"
   ]
  },
  {
   "cell_type": "markdown",
   "metadata": {},
   "source": [
    "## **3. Algebraic manipulation**\n",
    "代数运算\n"
   ]
  },
  {
   "cell_type": "markdown",
   "metadata": {},
   "source": [
    "#### Simplification\n"
   ]
  },
  {
   "cell_type": "code",
   "execution_count": 7,
   "metadata": {},
   "outputs": [
    {
     "name": "stdout",
     "output_type": "stream",
     "text": [
      "x + 1\n"
     ]
    }
   ],
   "source": [
    "from sympy import *\n",
    "\n",
    "x = Symbol('x')\n",
    "y = Symbol('y')\n",
    "a = (x + x**2)/(x*sin(y)**2 + x*cos(y)**2)\n",
    "print(simplify(a))"
   ]
  },
  {
   "cell_type": "markdown",
   "metadata": {},
   "source": [
    "#### \n",
    "\n",
    "The `trigsimp()` method is a specialized method used to simplify trigonometric expressions\n",
    "\n",
    "简化三角表达式"
   ]
  },
  {
   "cell_type": "code",
   "execution_count": 8,
   "metadata": {},
   "outputs": [
    {
     "name": "stdout",
     "output_type": "stream",
     "text": [
      "(x**2 + x)/x\n"
     ]
    }
   ],
   "source": [
    "from sympy import *\n",
    "\n",
    "x = Symbol('x')\n",
    "y = Symbol('y')\n",
    "a = (x + x**2)/(x*sin(y)**2 + x*cos(y)**2)\n",
    "print(trigsimp(a))"
   ]
  },
  {
   "cell_type": "code",
   "execution_count": 9,
   "metadata": {},
   "outputs": [
    {
     "name": "stdout",
     "output_type": "stream",
     "text": [
      "sin(x)**2 + tan(2*x)\n"
     ]
    }
   ],
   "source": [
    "from sympy import *\n",
    "\n",
    "x  = Symbol('x')\n",
    "a = (2*tan(x)/(1-tan(x)**2)) + ((1 - cos(2*x))/2)\n",
    "print(trigsimp(a))"
   ]
  },
  {
   "cell_type": "markdown",
   "metadata": {},
   "source": [
    "### \n",
    "\n",
    "The `expand()` method expands the mathematical expression."
   ]
  },
  {
   "cell_type": "code",
   "execution_count": 10,
   "metadata": {},
   "outputs": [
    {
     "name": "stdout",
     "output_type": "stream",
     "text": [
      "x**4 + 14*x**3 + 71*x**2 + 154*x + 120\n"
     ]
    }
   ],
   "source": [
    "from sympy import *\n",
    "\n",
    "x = Symbol('x')\n",
    "a = ((x + 2) * (x + 3) * (x + 4) * (x + 5))\n",
    "print(expand(a))"
   ]
  },
  {
   "cell_type": "markdown",
   "metadata": {},
   "source": [
    "### \n",
    "\n",
    "The `factor()` method factors a polynomial into irreducibles and returns them"
   ]
  },
  {
   "cell_type": "code",
   "execution_count": 11,
   "metadata": {},
   "outputs": [
    {
     "name": "stdout",
     "output_type": "stream",
     "text": [
      "(x + 2)*(x + 3)*(x + 4)*(x + 5)\n"
     ]
    }
   ],
   "source": [
    "from sympy import *\n",
    "\n",
    "x = Symbol('x')\n",
    "a = (x**4 + 14*x**3 + 71*x**2 + 154*x + 120)\n",
    "print(factor(a))"
   ]
  },
  {
   "cell_type": "markdown",
   "metadata": {},
   "source": [
    "### \n",
    "\n",
    "The `collect()` method collects the polynomial coefficients of the symbol specified as the second argument of the method. The first argument is the expression itself.\n"
   ]
  },
  {
   "cell_type": "code",
   "execution_count": 12,
   "metadata": {},
   "outputs": [
    {
     "name": "stdout",
     "output_type": "stream",
     "text": [
      "x**2*(1 - 3*y) + x*(3*y**2 + 1) - 1\n"
     ]
    }
   ],
   "source": [
    "from sympy import *\n",
    "\n",
    "x = Symbol('x')\n",
    "y = Symbol('y')\n",
    "a = (x**2 + 3*y**2*x - 3*x**2*y + x - 1)\n",
    "print(collect(a, x))"
   ]
  },
  {
   "cell_type": "markdown",
   "metadata": {},
   "source": [
    "### \n",
    "\n",
    "`apart()` computes the partial fraction decomposition of a rational function"
   ]
  },
  {
   "cell_type": "code",
   "execution_count": 13,
   "metadata": {},
   "outputs": [
    {
     "name": "stdout",
     "output_type": "stream",
     "text": [
      "5/(2*x + 3) + 3/(2*x + 1) + 5/(3*(x - 1))\n"
     ]
    }
   ],
   "source": [
    "from sympy import *\n",
    "\n",
    "x = Symbol('x')\n",
    "a = (68*x**2 + 34*x - 27)/(3*(4*x**3 + 4*x**2 - 5*x - 3)) \n",
    "print(apart(a))"
   ]
  },
  {
   "cell_type": "markdown",
   "metadata": {},
   "source": [
    "### \n",
    "\n",
    "The `together()` method combines rational functions into a single fraction and factors it."
   ]
  },
  {
   "cell_type": "code",
   "execution_count": 14,
   "metadata": {},
   "outputs": [
    {
     "name": "stdout",
     "output_type": "stream",
     "text": [
      "(2*x + 1)/x**2\n"
     ]
    }
   ],
   "source": [
    "from sympy import *\n",
    "\n",
    "x = Symbol('x')\n",
    "a = 1/x + 1/x + 1/x**2\n",
    "print(together(a))"
   ]
  },
  {
   "cell_type": "markdown",
   "metadata": {},
   "source": [
    "## **4. Differentiation**\n",
    "\n",
    "\n",
    "求导运算\n"
   ]
  },
  {
   "cell_type": "markdown",
   "metadata": {},
   "source": [
    "### First-order derivatives\n",
    "\n",
    "`diff()`"
   ]
  },
  {
   "cell_type": "code",
   "execution_count": 15,
   "metadata": {},
   "outputs": [
    {
     "name": "stdout",
     "output_type": "stream",
     "text": [
      "Derivative of f(x): 4*x**3 + 3*x**2 + 2*x\n",
      "Derivative of g(x): -sin(x) + cos(x)\n",
      "Derivative of h(x): exp(x)*sin(x) + exp(x)*cos(x) + 1\n",
      "-sin(1) + cos(1)\n"
     ]
    }
   ],
   "source": [
    "from sympy import *\n",
    "\n",
    "def f(x):\n",
    "    return (x**4 + x**3 + x**2)\n",
    "\n",
    "def g(x):\n",
    "    return (sin(x) + cos(x))\n",
    "\n",
    "def h(x):\n",
    "    return (sin(x)*exp(x) + x)\n",
    "    \n",
    "x = Symbol('x')\n",
    "\n",
    "print(\"Derivative of f(x):\", diff(f(x), x))\n",
    "print(\"Derivative of g(x):\", diff(g(x), x))\n",
    "print(\"Derivative of h(x):\", diff(h(x), x))\n",
    "\n",
    "# Value of the derivative\n",
    "print(diff(g(x),x).subs(x,1))"
   ]
  },
  {
   "cell_type": "markdown",
   "metadata": {},
   "source": [
    "### Higher-order derivatives\n"
   ]
  },
  {
   "cell_type": "code",
   "execution_count": 16,
   "metadata": {},
   "outputs": [
    {
     "name": "stdout",
     "output_type": "stream",
     "text": [
      "Second derivative of f(x): 2*(6*x**2 + 3*x + 1)\n",
      "Second derivative of f(x): 2*(6*x**2 + 3*x + 1)\n",
      "-----\n",
      "Third Derivative of g(x): -125*cos(5*x)\n",
      "Third Derivative of g(x): -125*cos(5*x)\n"
     ]
    }
   ],
   "source": [
    "from sympy import *\n",
    "\n",
    "def f(x):\n",
    "    return (x**4 + x**3 + x**2)\n",
    "\n",
    "def g(x):\n",
    "    return sin(5*x)\n",
    "    \n",
    "x = Symbol('x')\n",
    "\n",
    "print(\"Second derivative of f(x):\", diff(f(x), x, x))\n",
    "print(\"Second derivative of f(x):\", diff(f(x), x, 2))    # specifying the value of order of differential\n",
    "print(\"-----\")\n",
    "print(\"Third Derivative of g(x):\", diff(g(x), x, x, x))\n",
    "print(\"Third Derivative of g(x):\", diff(g(x), x, 3)) # specifying the value of order of differential"
   ]
  },
  {
   "cell_type": "markdown",
   "metadata": {},
   "source": [
    "### Partial derivatives\n",
    "\n"
   ]
  },
  {
   "cell_type": "code",
   "execution_count": 17,
   "metadata": {},
   "outputs": [
    {
     "name": "stdout",
     "output_type": "stream",
     "text": [
      "dz/dy =  x**2 + 2*x*y\n",
      "dz/dx =  2*x*y + y**2\n"
     ]
    }
   ],
   "source": [
    "from sympy import *\n",
    "\n",
    "def f(x, y):\n",
    "    return (y**2)*x + (x**2)*y\n",
    "\n",
    "x = Symbol('x')\n",
    "y = Symbol('y')\n",
    "z = f(x, y)\n",
    "\n",
    "print(\"dz/dy = \", diff(z, y))\n",
    "print(\"dz/dx = \", diff(z, x))"
   ]
  },
  {
   "cell_type": "code",
   "execution_count": 18,
   "metadata": {},
   "outputs": [
    {
     "name": "stdout",
     "output_type": "stream",
     "text": [
      "d^3z/dy^2dx =  12*x**2*y*(2*x + 3*y)\n"
     ]
    }
   ],
   "source": [
    "from sympy import *\n",
    "\n",
    "def f(x, y):\n",
    "    return (y**4)*(x**3) + (x**4)*(y**3)\n",
    "\n",
    "x = Symbol('x')\n",
    "y = Symbol('y')\n",
    "z = f(x, y)\n",
    "\n",
    "print(\"d^3z/dy^2dx = \", diff(z, y, 2, x, 1)) # or could use diff(z, y, y, x)"
   ]
  },
  {
   "cell_type": "markdown",
   "metadata": {},
   "source": [
    "## **5. Integration**\n",
    "\n",
    "\n",
    "求积运算\n",
    "\n",
    "`integrate(y,x)`"
   ]
  },
  {
   "cell_type": "code",
   "execution_count": 19,
   "metadata": {},
   "outputs": [
    {
     "name": "stdout",
     "output_type": "stream",
     "text": [
      "x**3/3 + x**2/2\n"
     ]
    }
   ],
   "source": [
    "from sympy import *\n",
    "\n",
    "def f(x):\n",
    "    return (x**2 + x)\n",
    "\n",
    "x = Symbol('x')\n",
    "\n",
    "print(integrate(f(x), x))"
   ]
  },
  {
   "cell_type": "code",
   "execution_count": 20,
   "metadata": {},
   "outputs": [
    {
     "name": "stdout",
     "output_type": "stream",
     "text": [
      "x**2/2 + x\n"
     ]
    }
   ],
   "source": [
    "from sympy import *\n",
    "\n",
    "def f(x):\n",
    "    return (x**2 / x+1) \n",
    "\n",
    "x = Symbol('x')\n",
    "print(integrate(f(x), x))"
   ]
  },
  {
   "cell_type": "code",
   "execution_count": 21,
   "metadata": {},
   "outputs": [
    {
     "name": "stdout",
     "output_type": "stream",
     "text": [
      "x/2 - sin(x)*cos(x)/2 + sin(2*x)/2\n"
     ]
    }
   ],
   "source": [
    "from sympy import *\n",
    "\n",
    "def f(x):\n",
    "    return (sin(x)**2 + cos(2*x)) \n",
    "\n",
    "x = Symbol('x')\n",
    "print(integrate(f(x), x))"
   ]
  },
  {
   "cell_type": "code",
   "execution_count": 22,
   "metadata": {},
   "outputs": [
    {
     "name": "stdout",
     "output_type": "stream",
     "text": [
      "(x**2 - 2*x + 2)*exp(x) + log(x)\n"
     ]
    }
   ],
   "source": [
    "from sympy import *\n",
    "\n",
    "def f(x):\n",
    "    return (x**2 * exp(x) + (1 / x)) \n",
    "\n",
    "x = Symbol('x')\n",
    "print(integrate(f(x), x))"
   ]
  },
  {
   "cell_type": "markdown",
   "metadata": {},
   "source": [
    "###  Definite integral\n",
    "\n",
    "`integrate(y, (x, lowerBound, upperBound))`\n"
   ]
  },
  {
   "cell_type": "code",
   "execution_count": 23,
   "metadata": {},
   "outputs": [
    {
     "name": "stdout",
     "output_type": "stream",
     "text": [
      "(x**2 - 2*x + 2)*exp(x)\n",
      "12.778\n"
     ]
    }
   ],
   "source": [
    "from sympy import *\n",
    "\n",
    "def f(x):\n",
    "    return (x**2 * exp(x)) \n",
    "\n",
    "x = Symbol('x')\n",
    "print(integrate(f(x), x))       # definite integral\n",
    "print(integrate(f(x), (x, 0, 2)).evalf(5)) # limits are from 0 to 2"
   ]
  },
  {
   "cell_type": "code",
   "execution_count": 24,
   "metadata": {},
   "outputs": [
    {
     "name": "stdout",
     "output_type": "stream",
     "text": [
      "(-2*x - 3)*exp(-x)\n",
      "3\n"
     ]
    }
   ],
   "source": [
    "from sympy import *\n",
    "\n",
    "def f(x):\n",
    "    return (1 + 2*x) * exp(-x) \n",
    "\n",
    "x = Symbol('x')\n",
    "print(integrate(f(x), x))       # definite integral\n",
    "print(integrate(f(x), (x, 0, oo))) # limits are from 0 to inifinite"
   ]
  },
  {
   "cell_type": "markdown",
   "metadata": {},
   "source": [
    "### Multiple inegrals\n",
    "\n",
    "`integrate(f(x, y, z), x, y, z)`"
   ]
  },
  {
   "cell_type": "code",
   "execution_count": 25,
   "metadata": {},
   "outputs": [
    {
     "name": "stdout",
     "output_type": "stream",
     "text": [
      "x*y*z**4/4 + z*(x**3*y/3 + x*y**2/2)\n"
     ]
    }
   ],
   "source": [
    "from sympy import *\n",
    "\n",
    "def f(x, y, z):\n",
    "    return x**2 + y + z**3\n",
    "\n",
    "x, y, z = symbols('x y z')\n",
    "\n",
    "indef_integ = integrate(f(x, y, z), x, y, z)\n",
    "print(indef_integ)       # indefinite integral"
   ]
  },
  {
   "cell_type": "markdown",
   "metadata": {},
   "source": [
    "### \n",
    "\n",
    "`integrate(f(x, y, z), (x, lower_x, upper_x), (y, lower_y, upper_y), (z, lower_z, upper_z))`"
   ]
  },
  {
   "cell_type": "code",
   "execution_count": 26,
   "metadata": {},
   "outputs": [
    {
     "name": "stdout",
     "output_type": "stream",
     "text": [
      "512\n"
     ]
    }
   ],
   "source": [
    "from sympy import *\n",
    "\n",
    "def f(x, y, z):\n",
    "    return x**2 + y + z**3\n",
    "\n",
    "x, y, z = symbols('x y z')\n",
    "\n",
    "def_integ = integrate(f(x, y, z), (x, 0, 4), (y, -3, 3), (z, -2, 2)) # Definite integral\n",
    "print(def_integ)"
   ]
  },
  {
   "cell_type": "markdown",
   "metadata": {},
   "source": [
    "## **6. Limits**\n",
    "\n",
    "`limit(f(x), x, x0)`"
   ]
  },
  {
   "cell_type": "markdown",
   "metadata": {},
   "source": [
    "$$\\lim\\limits_{x \\to 0}\\frac{\\sin(x)}{x} = 1$$"
   ]
  },
  {
   "cell_type": "code",
   "execution_count": 27,
   "metadata": {},
   "outputs": [
    {
     "name": "stdout",
     "output_type": "stream",
     "text": [
      "1\n"
     ]
    }
   ],
   "source": [
    "from sympy import *\n",
    "\n",
    "def f(x):\n",
    "    return sin(x) / x\n",
    "\n",
    "x = Symbol('x')\n",
    "print(limit(f(x), x, 0))"
   ]
  },
  {
   "cell_type": "markdown",
   "metadata": {},
   "source": [
    "$$\\lim\\limits_{x \\to 0}( 2e^{\\frac{1-\\cos(x)}{\\sin(x)}}-1)^{\\frac{\\sinh(x)}{\\arctan^2(x)}}$$"
   ]
  },
  {
   "cell_type": "code",
   "execution_count": 28,
   "metadata": {},
   "outputs": [
    {
     "name": "stdout",
     "output_type": "stream",
     "text": [
      "E\n"
     ]
    }
   ],
   "source": [
    "from sympy import *\n",
    "\n",
    "def f(x):\n",
    "    return ((2 * exp((1 - cos(x)) / sin(x)) - 1)**(sinh(x) / atan(x)**2))\n",
    "\n",
    "x = Symbol('x')\n",
    "print(limit(f(x), x, 0))"
   ]
  },
  {
   "cell_type": "markdown",
   "metadata": {},
   "source": [
    "### the direction of a limit\n",
    "\n",
    "`limit(f(x), x, x0, dir)`\n",
    "\n",
    "\n",
    "    The limit is bi-directional if the value of dir is '+-'.\n",
    "    The limit is from the right if the value of dir is '+'.\n",
    "    The limit is from the left if the value of dir is '-'.\n"
   ]
  },
  {
   "cell_type": "code",
   "execution_count": 29,
   "metadata": {},
   "outputs": [
    {
     "name": "stdout",
     "output_type": "stream",
     "text": [
      "Bi-directional for g(x): oo\n",
      "From right for f(x) oo\n",
      "From left for f(x) -oo\n"
     ]
    }
   ],
   "source": [
    "from sympy import *\n",
    "\n",
    "def f(x):\n",
    "    return 1 / x\n",
    "\n",
    "def g(x):\n",
    "    return 1 / x**2\n",
    "\n",
    "x = Symbol('x')\n",
    "\n",
    "print(\"Bi-directional for g(x):\", limit(g(x), x, 0, '+-'))\n",
    "print(\"From right for f(x)\", limit(f(x), x, 0, '+'))\n",
    "print(\"From left for f(x)\", limit(f(x), x, 0, '-'))"
   ]
  },
  {
   "cell_type": "code",
   "execution_count": null,
   "metadata": {},
   "outputs": [],
   "source": []
  }
 ],
 "metadata": {
  "kernelspec": {
   "display_name": "Python 3",
   "language": "python",
   "name": "python3"
  },
  "language_info": {
   "codemirror_mode": {
    "name": "ipython",
    "version": 3
   },
   "file_extension": ".py",
   "mimetype": "text/x-python",
   "name": "python",
   "nbconvert_exporter": "python",
   "pygments_lexer": "ipython3",
   "version": "3.5.4"
  }
 },
 "nbformat": 4,
 "nbformat_minor": 4
}
