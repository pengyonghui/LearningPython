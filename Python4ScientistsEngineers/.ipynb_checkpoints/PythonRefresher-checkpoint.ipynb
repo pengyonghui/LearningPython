{
 "cells": [
  {
   "cell_type": "markdown",
   "metadata": {},
   "source": [
    "### Python Refresher "
   ]
  },
  {
   "cell_type": "markdown",
   "metadata": {},
   "source": [
    "### **1. Some takeaways**\n",
    "\n",
    "- Data Types and Variables\n",
    "\n",
    "    Boolean: `True or False`    \n",
    "    Strings: `single or double quotation marks: \"\", or ''`    \n",
    "   Indexing: `square brackets [ ]`\n",
    "\n",
    "- Operators\n",
    "\n",
    "    Exponent:` **`\n",
    "    modulo:`%`\n",
    "    Floor Division: `//`\n",
    "    Equal to: `is`\n",
    "    Not equal to: ` is not`\n",
    "    \n",
    "- Conditional Statements\n",
    "\n",
    "    if condition `1` is true:        execute expression `1`    \n",
    "    if condition `2` is true:        execute expression `2`        \n",
    "    else:         execute expression `3`"
   ]
  },
  {
   "cell_type": "code",
   "execution_count": 1,
   "metadata": {},
   "outputs": [
    {
     "name": "stdout",
     "output_type": "stream",
     "text": [
      "(10+20j)\n",
      "2j\n",
      "(2+3j)\n",
      "z = (2+3j)\n",
      "Real part of z is 2.0\n",
      "Imaginary part of z is 3.0\n"
     ]
    }
   ],
   "source": [
    "print(complex(10,20))\n",
    "\n",
    "complex_1 = complex(0, 2)\n",
    "complex_2 = 2 + 3j\n",
    "print(complex_1)\n",
    "print(complex_2)\n",
    "print('z =', complex_2)\n",
    "\n",
    "print(\"Real part of z is\", complex_2.real)\n",
    "print(\"Imaginary part of z is\", complex_2.imag)\n"
   ]
  },
  {
   "cell_type": "markdown",
   "metadata": {},
   "source": [
    "#### **2. Loops**\n",
    "\n",
    "- For loops\n",
    "    \n",
    "    1. the name of the iterator\n",
    "    2. the sequence to be traversed\n",
    "    3. the set of operations to be perfermed    \n",
    "  \n",
    "<font color=blue> for </font> iterator <font color=blue> in </font> sequence:\n",
    "\n",
    "operations to be performed\n",
    "\n",
    "- While loops\n",
    "\n",
    "<font color=blue> while </font> condition <font color=blue> is </font> true:\n",
    "\n",
    "loops over these operations\n",
    "\n",
    "\n",
    "- The return statement\n",
    "\n",
    "To return something from a function, we must use the `return` keyword. Once the `return` statement is executed, the compiler returns control to the statement after the calling function. Any remaining lines of code after the`return` statement will not be executed.\n",
    "\n",
    "  "
   ]
  },
  {
   "cell_type": "markdown",
   "metadata": {},
   "source": [
    "#### **3. Changing parameter values**"
   ]
  },
  {
   "cell_type": "markdown",
   "metadata": {},
   "source": [
    "When **mutable** data is passed to a function, the function can modify or alter it and these modifications will stay in effect outside the function scope as well. An example of mutable data is a `list`.\n",
    "\n",
    "In the case of **immutable** data, the function can modify it, but the data will remain unchanged outside the function’s scope. Examples of immutable data are `numbers, strings`, etc."
   ]
  },
  {
   "cell_type": "code",
   "execution_count": 2,
   "metadata": {},
   "outputs": [
    {
     "name": "stdout",
     "output_type": "stream",
     "text": [
      "[10, 20, 30, 40]\n",
      "[100, 200, 300, 400]\n"
     ]
    }
   ],
   "source": [
    "num_list = [10, 20, 30, 40]\n",
    "print (num_list)\n",
    "\n",
    "def multiply_by_10(myList):\n",
    "    for i in range(len(myList)):\n",
    "        num_list[i] *= 10\n",
    "\n",
    "multiply_by_10(num_list)\n",
    "print (num_list) # The contents of the list have been changed"
   ]
  },
  {
   "cell_type": "code",
   "execution_count": 3,
   "metadata": {},
   "outputs": [
    {
     "name": "stdout",
     "output_type": "stream",
     "text": [
      "20\n"
     ]
    }
   ],
   "source": [
    "num = 20\n",
    "\n",
    "def multiply_by_10(n):\n",
    "    n *= 10             # Changing the value inside the function\n",
    "    return n\n",
    "\n",
    "multiply_by_10(num)\n",
    "print (num)             # The original value remains unchanged"
   ]
  },
  {
   "cell_type": "code",
   "execution_count": null,
   "metadata": {},
   "outputs": [],
   "source": []
  },
  {
   "cell_type": "markdown",
   "metadata": {},
   "source": [
    "#### **4. Lambdas**"
   ]
  },
  {
   "cell_type": "markdown",
   "metadata": {},
   "source": [
    "A lambda is an anonymous function that returns some form of data. Lambdas are defined using the lambda keyword. Since they return data, it is good practice to assign them to a variable.\n",
    "\n",
    "Lambda是一个匿名函数，它返回某种形式的数据。 Lambda是使用lambda关键字定义的。由于它们返回数据，因此最好将它们分配给变量。\n"
   ]
  },
  {
   "cell_type": "markdown",
   "metadata": {},
   "source": [
    "<font color=green> lambda </font> parameters: expression \n",
    "\n",
    "In the above syntax, parameters are optional."
   ]
  },
  {
   "cell_type": "code",
   "execution_count": 1,
   "metadata": {},
   "outputs": [
    {
     "name": "stdout",
     "output_type": "stream",
     "text": [
      "100\n"
     ]
    }
   ],
   "source": [
    "square = lambda num: num ** 2 # Assigning the lambda to a variable\n",
    "print (square(10)) # Calling the lambda and giving it a parameter"
   ]
  },
  {
   "cell_type": "code",
   "execution_count": 3,
   "metadata": {},
   "outputs": [
    {
     "name": "stdout",
     "output_type": "stream",
     "text": [
      "QIS\n"
     ]
    }
   ],
   "source": [
    "\"\"\"\n",
    "a simple lambda that concatenates the first characters of three strings together\n",
    "一个简单的lambda，它将三个字符串的第一个字符连接在一起\n",
    "\"\"\"\n",
    "\n",
    "concat_strings = lambda a, b, c: a[0] + b[0] + c[0]\n",
    "\n",
    "print (concat_strings(\"Quantum\", \"Information\", \"Science\"))"
   ]
  },
  {
   "cell_type": "markdown",
   "metadata": {},
   "source": [
    "**A lambda cannot have a multi-line expression.** \n",
    "This means that our expression needs to be something that can be written in a single line."
   ]
  },
  {
   "cell_type": "markdown",
   "metadata": {},
   "source": [
    "#### Calling functions with lambdas as arguments"
   ]
  },
  {
   "cell_type": "code",
   "execution_count": 4,
   "metadata": {},
   "outputs": [
    {
     "name": "stdout",
     "output_type": "stream",
     "text": [
      "200\n",
      "30\n",
      "1000\n"
     ]
    }
   ],
   "source": [
    "def calculator (operation, n1, n2):\n",
    "  return operation(n1, n2) # Using the 'operation' argument as a function\n",
    "\n",
    "# 10 and 20 are the arguments.\n",
    "# The lambda multiplies them.\n",
    "result = calculator(lambda n1, n2: n1 * n2, 10, 20) \n",
    "\n",
    "print (result)\n",
    "\n",
    "# 10 and 20 are the arguments.\n",
    "# The lambda adds them.\n",
    "print (calculator(lambda n1, n2: n1 + n2, 10, 20))\n",
    "\n",
    "# 10 and 3 are the arguments.\n",
    "# The lambda computes 10^3\n",
    "print (calculator(lambda n1, n2: n1 ** n2, 10, 3))\n"
   ]
  },
  {
   "cell_type": "markdown",
   "metadata": {},
   "source": [
    "#### **5. List, Tuple, and Dictionary**"
   ]
  },
  {
   "attachments": {
    "image.png": {
     "image/png": "[encoded data removed]"
    }
   },
   "cell_type": "markdown",
   "metadata": {},
   "source": [
    "\n",
    "1. Lists\n",
    "    - Square brackets `[ ]`\n",
    "    - Lists are ordered and elements are stored linearly at specific indexes.\n",
    "    - Mutable\n",
    "![image.png](attachment:image.png)"
   ]
  },
  {
   "attachments": {
    "image.png": {
     "image/png": "[encoded data removed]"
    }
   },
   "cell_type": "markdown",
   "metadata": {},
   "source": [
    "2. Tuple\n",
    "    - parentheses `( )`\n",
    "    - They are also ordered, and hence, follow the linear index notation.\n",
    "    - Immutable\n",
    "    \n",
    "    `We can’t add or delete elements from them. Furthermore, it isn’t possible to append another tuple to an existing tuple.`\n",
    "    \n",
    "![image.png](attachment:image.png)"
   ]
  },
  {
   "attachments": {
    "image.png": {
     "image/png": "[encoded data removed]"
    }
   },
   "cell_type": "markdown",
   "metadata": {},
   "source": [
    "3. Dictionary\n",
    "    - curly brackets `{ }`\n",
    "    - Dictionaries are unordered because the entries are not stored in a linear structure\n",
    "    - All keys must be unique. However, the same value can be mapped to multiple keys\n",
    "    - we can access a value by enclosing the name of the key in square brackets, `[ ]`. Alternatively, we can use the `get()` method\n",
    "    - `if` key `in` dictionary:\n",
    "    \n",
    "      do something\n",
    "      \n",
    "    ![image.png](attachment:image.png)"
   ]
  },
  {
   "cell_type": "markdown",
   "metadata": {},
   "source": [
    "##### **5.1 List comprehension**\n",
    "\n",
    "A list comprehension statement is always enclosed in square brackets, `[ ]`. "
   ]
  },
  {
   "cell_type": "code",
   "execution_count": 9,
   "metadata": {},
   "outputs": [
    {
     "name": "stdout",
     "output_type": "stream",
     "text": [
      "[1, 2, 3, 4, 5]\n",
      "[1, 4, 9, 16, 25]\n"
     ]
    }
   ],
   "source": [
    "# without_comprehension\n",
    "\n",
    "nums = [1, 2, 3, 4, 5]\n",
    "nums_square = []\n",
    "\n",
    "for n in nums:\n",
    "  nums_square.append(n ** 2)\n",
    "\n",
    "print (nums)\n",
    "print (nums_square)"
   ]
  },
  {
   "cell_type": "code",
   "execution_count": 10,
   "metadata": {},
   "outputs": [
    {
     "name": "stdout",
     "output_type": "stream",
     "text": [
      "[1, 2, 3, 4, 5]\n",
      "[1, 4, 9, 16, 25]\n"
     ]
    }
   ],
   "source": [
    "# with_comprehension\n",
    "\n",
    "nums = [1, 2, 3, 4, 5]\n",
    "\n",
    "# List comprehension\n",
    "nums_square = [n**2 for n in nums]\n",
    "\n",
    "print (nums)\n",
    "print (nums_square)"
   ]
  },
  {
   "cell_type": "code",
   "execution_count": 5,
   "metadata": {},
   "outputs": [
    {
     "name": "stdout",
     "output_type": "stream",
     "text": [
      "[[0, 1, 2, 3, 4], [20, 21, 22, 23, 24], [40, 41, 42, 43, 44], [60, 61, 62, 63, 64], [80, 81, 82, 83, 84]]\n"
     ]
    }
   ],
   "source": [
    "M = [[], [], [], [], []]\n",
    "\n",
    "for m in range(5):\n",
    "  for n in range(5): \n",
    "    M[m].append(n + m * 20)\n",
    "   \n",
    "print(M)"
   ]
  },
  {
   "cell_type": "code",
   "execution_count": 6,
   "metadata": {},
   "outputs": [
    {
     "name": "stdout",
     "output_type": "stream",
     "text": [
      "[[0, 1, 2, 3, 4], [20, 21, 22, 23, 24], [40, 41, 42, 43, 44], [60, 61, 62, 63, 64], [80, 81, 82, 83, 84]]\n"
     ]
    }
   ],
   "source": [
    "M = [[(n + m * 20) for n in range(5)] for m in range(5)]\n",
    "\n",
    "print(M)"
   ]
  },
  {
   "cell_type": "markdown",
   "metadata": {},
   "source": [
    "#### **6. Using Python Packages -- Aliasing**\n",
    "\n",
    "If you don’t like the name of the package, for example, because it is long, you can change the name\n",
    "\n",
    "`import` numpy `as` np"
   ]
  }
 ],
 "metadata": {
  "kernelspec": {
   "display_name": "Python 3",
   "language": "python",
   "name": "python3"
  },
  "language_info": {
   "codemirror_mode": {
    "name": "ipython",
    "version": 3
   },
   "file_extension": ".py",
   "mimetype": "text/x-python",
   "name": "python",
   "nbconvert_exporter": "python",
   "pygments_lexer": "ipython3",
   "version": "3.5.4"
  }
 },
 "nbformat": 4,
 "nbformat_minor": 4
}
