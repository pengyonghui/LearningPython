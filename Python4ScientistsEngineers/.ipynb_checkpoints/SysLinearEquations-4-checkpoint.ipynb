{
 "cells": [
  {
   "cell_type": "markdown",
   "metadata": {},
   "source": [
    "## **1. Building and Solving Linear Equations**\n"
   ]
  },
  {
   "cell_type": "code",
   "execution_count": 7,
   "metadata": {},
   "outputs": [
    {
     "name": "stdout",
     "output_type": "stream",
     "text": [
      "[[ 2  3  1]\n",
      " [ 3  4  2]\n",
      " [ 1  1 -1]]\n",
      "\n",
      "[17 25  6]\n",
      "[5. 2. 1.]\n",
      "[17. 25.  6.]\n"
     ]
    }
   ],
   "source": [
    "import numpy as np \n",
    "A = np.array([[2,3,1],[3,4,2],[1,1,-1]])\n",
    "b = np.array([17,25,6])\n",
    "print(A)\n",
    "print()\n",
    "print(b)\n",
    "\n",
    "# solve the equations\n",
    "x = np.linalg.solve(A,b)\n",
    "print(x)\n",
    "print(np.dot(A, x))"
   ]
  },
  {
   "cell_type": "markdown",
   "metadata": {},
   "source": [
    "## **2. Eigenvalues and Eienvectors**\n",
    "non-hermitian and hermitian matrices.\n",
    "非埃尔米特和埃尔米特矩阵"
   ]
  },
  {
   "cell_type": "markdown",
   "metadata": {},
   "source": [
    "$$ Av_n = \\lambda_{n}v_n $$\n",
    "where $\\lambda_n$ is $n^{th}$ eigenvalue, and $v_n$ is $n^{th}$ eigenvector"
   ]
  },
  {
   "cell_type": "code",
   "execution_count": 8,
   "metadata": {},
   "outputs": [
    {
     "name": "stdout",
     "output_type": "stream",
     "text": [
      "[13.96427447 -1.71352338 -0.2507511 ]\n"
     ]
    }
   ],
   "source": [
    "# get the eigenvalues \n",
    "import numpy as np\n",
    "\n",
    "A = np.array([[1,5,8], [2,2,6], [2,5,9]])\n",
    "print(np.linalg.eigvals(A))"
   ]
  },
  {
   "cell_type": "code",
   "execution_count": 9,
   "metadata": {},
   "outputs": [
    {
     "name": "stdout",
     "output_type": "stream",
     "text": [
      "Eigenvalues:  [1. 2. 9.]\n",
      "Eigenvectors:  [[1. 0. 0.]\n",
      " [0. 1. 0.]\n",
      " [0. 0. 1.]]\n"
     ]
    }
   ],
   "source": [
    "# get the eigenvectors \n",
    "import numpy as  np\n",
    "\n",
    "A = np.array([[1,0, 0], [0,2, 0], [0, 0,9]])\n",
    "\n",
    "evals, evecs = np.linalg.eig(A)\n",
    "\n",
    "print(\"Eigenvalues: \", evals)\n",
    "print(\"Eigenvectors: \", evecs)\n"
   ]
  },
  {
   "cell_type": "markdown",
   "metadata": {},
   "source": [
    "#### \n",
    "The eigenvectors corresponding to the $n^{th}$ eigenvalue, stored in `evals[n]`, is the $n^{th}$ column in `evecs`, i.e., `evecs[:,n]`."
   ]
  },
  {
   "cell_type": "markdown",
   "metadata": {},
   "source": [
    "## **3. Hermitian matrices**\n",
    "\n",
    "\n",
    "For hermitian matrices, we use the eigh() method"
   ]
  },
  {
   "cell_type": "code",
   "execution_count": 10,
   "metadata": {},
   "outputs": [
    {
     "name": "stdout",
     "output_type": "stream",
     "text": [
      "[[-1.+0.j  1.-2.j  0.+0.j]\n",
      " [ 1.+2.j  0.+0.j  0.-1.j]\n",
      " [ 0.+0.j  0.+1.j  1.+0.j]]\n",
      "Eigenvalues [-2.89510652  0.60270493  2.29240159]\n",
      "-----\n",
      "Eigenvectors [[-0.75257583+0.j         -0.45794385-0.j         -0.47319874+0.j        ]\n",
      " [ 0.28524227+0.57048455j -0.14678977-0.29357955j -0.31159205-0.62318411j]\n",
      " [ 0.14646186-0.07323093j -0.73894586+0.36947293j  0.48219076-0.24109538j]]\n"
     ]
    }
   ],
   "source": [
    "import numpy as np\n",
    "\n",
    "a = np.array([[-1, 1-2j, 0],[1+2j, 0, 0-1j],[0, 1j, 1]], dtype=complex) # Hermitian matrix\n",
    "evals, evecs = np.linalg.eigh(a)\n",
    "\n",
    "print(a)\n",
    "print(\"Eigenvalues\", evals)\n",
    "print(\"-----\")\n",
    "print(\"Eigenvectors\", evecs)"
   ]
  },
  {
   "cell_type": "markdown",
   "metadata": {},
   "source": [
    "#### \n"
   ]
  },
  {
   "cell_type": "markdown",
   "metadata": {},
   "source": [
    "## **4. Matrix Operations**"
   ]
  },
  {
   "cell_type": "code",
   "execution_count": 9,
   "metadata": {},
   "outputs": [
    {
     "name": "stdout",
     "output_type": "stream",
     "text": [
      "[5. 2. 1.]\n",
      "---\n",
      "Determinant of A 2.0000000000000004\n",
      "\n",
      "Trace: sum of the diagonal values of a matrix\n",
      "5\n",
      "---\n",
      "[[ 2  3  1]\n",
      " [ 3  4  2]\n",
      " [ 1  1 -1]]\n",
      "\n",
      " After Transpose\n",
      "[[ 2  3  1]\n",
      " [ 3  4  1]\n",
      " [ 1  2 -1]]\n"
     ]
    }
   ],
   "source": [
    "import numpy as np\n",
    "\n",
    "A = np.array([[2,3,1],[3,4,2],[1,1,-1]])\n",
    "b = np.array([17,25,6])\n",
    "\n",
    "Ainv = np.linalg.inv(A)\n",
    "x = np.dot(Ainv, b)\n",
    "print(x)\n",
    "\n",
    "print('---')\n",
    "print('Determinant of A', np.linalg.det(A))\n",
    "\n",
    "print('\\nTrace: sum of the diagonal values of a matrix')\n",
    "print(np.trace(A))\n",
    "print('---')\n",
    "print(A)\n",
    "print('\\n After Transpose')\n",
    "print(np.transpose(A))"
   ]
  },
  {
   "cell_type": "markdown",
   "metadata": {},
   "source": [
    "### **Euclidean norm**\n",
    "\n",
    "$$ \\|A\\| = \\sqrt{\\sum_{i=1}^{m}\\sum_{j=1}^{n}|a_{ij}|^2} $$"
   ]
  },
  {
   "cell_type": "code",
   "execution_count": 10,
   "metadata": {},
   "outputs": [
    {
     "name": "stdout",
     "output_type": "stream",
     "text": [
      "Norm of v is 5.0\n",
      "Norm of M is 100.47885349664377\n"
     ]
    }
   ],
   "source": [
    "v = np.array([0, 3, 4])\n",
    "M = np.array([[2, 3, 5], [4, 98, 2], [11, 12, -13]])\n",
    "\n",
    "print(\"Norm of v is\", np.linalg.norm(v))\n",
    "print(\"Norm of M is\", np.linalg.norm(M))"
   ]
  },
  {
   "cell_type": "markdown",
   "metadata": {},
   "source": [
    "## **5. Sparse matrices**\n",
    "\n",
    "In a sparse matrix, only the value and location of non-zero values in a matrix are stored. Functionality for sparse matrices is available in the scipy submodule sparse\n",
    "\n",
    "在稀疏矩阵中，仅存储矩阵中非零值的值和位置。稀疏矩阵的功能在scipy子模块sparse中可用\n",
    "\n",
    "There are two commonly used ways to create a sparse matrix:\n",
    "1.    compressed sparse column using the `csc_matrix(A)` method.\n",
    "2.    compressed sparse row using the `csr_matrix(A)` method.\n"
   ]
  },
  {
   "cell_type": "code",
   "execution_count": 14,
   "metadata": {},
   "outputs": [
    {
     "name": "stdout",
     "output_type": "stream",
     "text": [
      "[[2 3 0 0]\n",
      " [1 2 3 0]\n",
      " [0 1 2 3]\n",
      " [0 0 1 2]]\n",
      "\n",
      "Compressed Sparse Column\n",
      "  (0, 0)\t2\n",
      "  (1, 0)\t1\n",
      "  (0, 1)\t3\n",
      "  (1, 1)\t2\n",
      "  (2, 1)\t1\n",
      "  (1, 2)\t3\n",
      "  (2, 2)\t2\n",
      "  (3, 2)\t1\n",
      "  (2, 3)\t3\n",
      "  (3, 3)\t2\n",
      "\n",
      "Compressed Sparse Row\n",
      "  (0, 0)\t2\n",
      "  (0, 1)\t3\n",
      "  (1, 0)\t1\n",
      "  (1, 1)\t2\n",
      "  (1, 2)\t3\n",
      "  (2, 1)\t1\n",
      "  (2, 2)\t2\n",
      "  (2, 3)\t3\n",
      "  (3, 2)\t1\n",
      "  (3, 3)\t2\n",
      "\n",
      "Dense Matrix\n",
      "[[2 3 0 0]\n",
      " [1 2 3 0]\n",
      " [0 1 2 3]\n",
      " [0 0 1 2]]\n"
     ]
    }
   ],
   "source": [
    "import scipy.sparse as sp\n",
    "import numpy as np\n",
    "\n",
    "M = np.array([[2, 3, 0, 0], [1, 2, 3, 0], [0, 1, 2, 3], [0, 0, 1, 2]])\n",
    "print(M)\n",
    "\n",
    "sparse_column = sp.csc_matrix(M) \n",
    "print(\"\\nCompressed Sparse Column\")\n",
    "print(sparse_column)\n",
    "\n",
    "sparse_row = sp.csr_matrix(M) \n",
    "print(\"\\nCompressed Sparse Row\")\n",
    "print(sparse_row)\n",
    "\n",
    "print(\"\\nDense Matrix\")\n",
    "print(sparse_row.todense())"
   ]
  },
  {
   "cell_type": "markdown",
   "metadata": {},
   "source": [
    "###  **Solving equations with Sparse matrices**"
   ]
  },
  {
   "cell_type": "code",
   "execution_count": 21,
   "metadata": {},
   "outputs": [
    {
     "name": "stdout",
     "output_type": "stream",
     "text": [
      "[[ 2  3  1]\n",
      " [ 3  4  2]\n",
      " [ 1  1 -1]]\n",
      "\n",
      "A:\n",
      "  (0, 0)\t2\n",
      "  (1, 0)\t3\n",
      "  (2, 0)\t1\n",
      "  (0, 1)\t3\n",
      "  (1, 1)\t4\n",
      "  (2, 1)\t1\n",
      "  (0, 2)\t1\n",
      "  (1, 2)\t2\n",
      "  (2, 2)\t-1\n",
      "\n",
      "b:\n",
      "[17 25  6]\n",
      "\n",
      "The solution of the linear equation:\n",
      "[5. 2. 1.]\n",
      "\n",
      "Checking the solution b= A*x, b = \n",
      "[17. 25.  6.]\n"
     ]
    }
   ],
   "source": [
    "import numpy as np\n",
    "import scipy.sparse as sp\n",
    "from scipy.sparse.linalg import spsolve \n",
    "\n",
    "M = np.array([[2, 3, 1], [3, 4, 2], [1, 1, -1]])\n",
    "print(M)\n",
    "A = sp.csc_matrix(M)    # conversion to sparse matrix\n",
    "print('\\nA:')\n",
    "print(A)\n",
    "\n",
    "b = np.array([17, 25, 6])\n",
    "print('\\nb:')\n",
    "print(b)\n",
    "\n",
    "x = spsolve(A, b)       # solving the system of linear equation\n",
    "\n",
    "print('\\nThe solution of the linear equation:')\n",
    "print(x)\n",
    "\n",
    "print('\\nChecking the solution b= A*x, b = ')\n",
    "print(A*x)"
   ]
  },
  {
   "cell_type": "markdown",
   "metadata": {},
   "source": [
    "## **6.Task**\n",
    "In this exercise, you will fit a wave by finding the unknown parameters of the equation \n",
    "$$ y = asin(\\pi{t}) + bsin(2\\pi{t}) + csin(3\\pi{t}) + dsin(4\\pi{t})$$\n",
    "\n",
    "$(t_0,y_0)=(0.25,3)$\n",
    "\n",
    "$(t_1,y_1)=(0.5,2)$\n",
    "\n",
    "$(t_2,y_2)=(0.75,-3)$\n",
    "\n",
    "$(t_3,y_3)=(1,0)$"
   ]
  },
  {
   "cell_type": "code",
   "execution_count": null,
   "metadata": {},
   "outputs": [],
   "source": []
  }
 ],
 "metadata": {
  "kernelspec": {
   "display_name": "Python 3",
   "language": "python",
   "name": "python3"
  },
  "language_info": {
   "codemirror_mode": {
    "name": "ipython",
    "version": 3
   },
   "file_extension": ".py",
   "mimetype": "text/x-python",
   "name": "python",
   "nbconvert_exporter": "python",
   "pygments_lexer": "ipython3",
   "version": "3.5.4"
  }
 },
 "nbformat": 4,
 "nbformat_minor": 4
}
