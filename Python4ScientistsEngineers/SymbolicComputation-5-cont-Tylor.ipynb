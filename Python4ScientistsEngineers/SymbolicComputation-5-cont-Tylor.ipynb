{
 "cells": [
  {
   "cell_type": "markdown",
   "metadata": {},
   "source": [
    "## **1. Series Expansion**\n",
    "\n",
    "Taylor series\n",
    "\n",
    "$$ f(x) =\\sum_{n=0}^{\\infty}\\frac{f^{(n)}a}{n!}(x-a)^n $$\n",
    "\n",
    "where $f^{(n)}$ is the $n^{th}$ derivative of $f$\n",
    "\n",
    "`series(f(x), x)` or `f(x).series(x)`"
   ]
  },
  {
   "cell_type": "code",
   "execution_count": 20,
   "metadata": {},
   "outputs": [
    {
     "name": "stdout",
     "output_type": "stream",
     "text": [
      "Taylor series for sin(x): x - x**3/6 + x**5/120 + O(x**6)\n",
      "Taylor series for cos(x): 1 - x**2/2 + x**4/24 + O(x**6)\n"
     ]
    }
   ],
   "source": [
    "from sympy import *\n",
    "\n",
    "x = Symbol('x')\n",
    "\n",
    "ts_sin = series(sin(x), x)      # using first syntax\n",
    "ts_cos = cos(x).series(x)       # using second syntax\n",
    "print(\"Taylor series for sin(x):\", ts_sin)\n",
    "print(\"Taylor series for cos(x):\", ts_cos)"
   ]
  },
  {
   "cell_type": "code",
   "execution_count": 21,
   "metadata": {},
   "outputs": [
    {
     "name": "stdout",
     "output_type": "stream",
     "text": [
      "Taylor series for sin(x): x**5/120 - x**3/6 + x\n",
      "Taylor series for cos(x): x**4/24 - x**2/2 + 1\n"
     ]
    }
   ],
   "source": [
    "from sympy import *\n",
    "\n",
    "x = Symbol('x')\n",
    "\n",
    "ts_sin = series(sin(x), x).removeO()\n",
    "ts_cos = series(cos(x), x).removeO()\n",
    "print(\"Taylor series for sin(x):\", ts_sin)\n",
    "print(\"Taylor series for cos(x):\", ts_cos)"
   ]
  },
  {
   "cell_type": "markdown",
   "metadata": {},
   "source": [
    "### \n",
    "\n",
    "specify the point `a` around which we want to expand and the maximum term power, `maxTerm`:\n",
    "\n",
    "`series(f(x), x, a, maxTerm)`"
   ]
  },
  {
   "cell_type": "code",
   "execution_count": 22,
   "metadata": {},
   "outputs": [
    {
     "name": "stdout",
     "output_type": "stream",
     "text": [
      "Taylor series for sin(x): sqrt(2)/2 + sqrt(2)*(x - pi/4)/2 - sqrt(2)*(x - pi/4)**2/4 - sqrt(2)*(x - pi/4)**3/12 + sqrt(2)*(x - pi/4)**4/48 + O((x - pi/4)**5, (x, pi/4))\n",
      "Taylor series for cos(x): 1/2 - sqrt(3)*(x - pi/3)/2 - (x - pi/3)**2/4 + sqrt(3)*(x - pi/3)**3/12 + O((x - pi/3)**4, (x, pi/3))\n"
     ]
    }
   ],
   "source": [
    "from sympy import *\n",
    "\n",
    "x = Symbol('x')\n",
    "\n",
    "ts_sin = series(sin(x), x, pi/4, 5) # taylor series around pi/4 with max power 5\n",
    "ts_cos = series(cos(x), x, pi/3, 4) #  taylor series around pi/3 with max power 4\n",
    "print(\"Taylor series for sin(x):\", ts_sin)\n",
    "print(\"Taylor series for cos(x):\", ts_cos)"
   ]
  },
  {
   "cell_type": "markdown",
   "metadata": {},
   "source": [
    "### \n",
    "\n",
    "**Substituting values**"
   ]
  },
  {
   "cell_type": "code",
   "execution_count": 23,
   "metadata": {},
   "outputs": [
    {
     "name": "stdout",
     "output_type": "stream",
     "text": [
      "Taylor series for sin(x) -x**7/5040 + x**5/120 - x**3/6 + x\n",
      "-----\n",
      "Taylor series for sin(x): -pi**3/6000 - pi**7/50400000000 + pi**5/12000000 + pi/10\n"
     ]
    }
   ],
   "source": [
    "from sympy import *\n",
    "\n",
    "x = Symbol('x')\n",
    "\n",
    "s8 = sin(x).series(x, 0, 8).removeO()\n",
    "print(\"Taylor series for sin(x)\", s8)\n",
    "print('-----')\n",
    "print(\"Taylor series for sin(x):\", s8.subs({x: pi/10}))"
   ]
  },
  {
   "cell_type": "code",
   "execution_count": null,
   "metadata": {},
   "outputs": [],
   "source": [
    "\n"
   ]
  },
  {
   "cell_type": "markdown",
   "metadata": {},
   "source": [
    "#### **Formal power series**\n",
    "\n",
    "$$\\sum_{k=0}^{\\infty}a_kx^k$$\n",
    "\n",
    "`fps(f(x), x, a)`\n",
    "\n",
    "`fps()` is used in combination with its `truncate(n)` method which returns the first n terms of the series.\n",
    "\n",
    "`fps(f(x), x, a).truncate(n)`"
   ]
  },
  {
   "cell_type": "code",
   "execution_count": 24,
   "metadata": {},
   "outputs": [
    {
     "name": "stdout",
     "output_type": "stream",
     "text": [
      "109/15\n"
     ]
    }
   ],
   "source": [
    "from sympy import *\n",
    "\n",
    "x = Symbol('x')\n",
    "\n",
    "fps_exp = fps(exp(x), x, 0).truncate(6).removeO() # formal power series of exp around 0\n",
    "print(fps_exp.subs({x: 2}))"
   ]
  },
  {
   "cell_type": "markdown",
   "metadata": {},
   "source": [
    "extract the $15^{th}$ term from the expansion of $e^x$"
   ]
  },
  {
   "cell_type": "code",
   "execution_count": 25,
   "metadata": {},
   "outputs": [
    {
     "name": "stdout",
     "output_type": "stream",
     "text": [
      "x**15/1307674368000\n"
     ]
    }
   ],
   "source": [
    "from sympy import *\n",
    "\n",
    "x = Symbol('x')\n",
    "\n",
    "fps_exp = fps(exp(x), x, 0) # formal power series of exp around 0\n",
    "print(fps_exp[15])"
   ]
  },
  {
   "cell_type": "markdown",
   "metadata": {},
   "source": [
    "## **2. Solving Equations**"
   ]
  },
  {
   "cell_type": "markdown",
   "metadata": {},
   "source": [
    "`solve(f(x), x)`\n",
    "\n",
    "Usually, for single variable equations, it returns a *list* and for multivariable equations, it returns a *dictionary*."
   ]
  },
  {
   "cell_type": "markdown",
   "metadata": {},
   "source": [
    "#### \n",
    "\n",
    "$$2x + 3 = 0$$"
   ]
  },
  {
   "cell_type": "code",
   "execution_count": 26,
   "metadata": {},
   "outputs": [
    {
     "name": "stdout",
     "output_type": "stream",
     "text": [
      "[-3/2]\n"
     ]
    }
   ],
   "source": [
    "from sympy import *\n",
    "def f(x):\n",
    "    return 2*x + 3\n",
    "x = Symbol('x')\n",
    "sol = solve(f(x),x)\n",
    "print(sol)"
   ]
  },
  {
   "cell_type": "markdown",
   "metadata": {},
   "source": [
    "#### \n",
    "\n",
    "$$x^2 - x + 6 = 0$$"
   ]
  },
  {
   "cell_type": "code",
   "execution_count": 27,
   "metadata": {},
   "outputs": [
    {
     "name": "stdout",
     "output_type": "stream",
     "text": [
      "[-2, 3]\n"
     ]
    }
   ],
   "source": [
    "def f(x):\n",
    "    return x**2 -x -6\n",
    "x = Symbol('x')\n",
    "sol = solve(f(x),x)\n",
    "print(sol)"
   ]
  },
  {
   "cell_type": "markdown",
   "metadata": {},
   "source": [
    "#### \n",
    "\n",
    "$$x^2 + 4x +5 = 0$$"
   ]
  },
  {
   "cell_type": "code",
   "execution_count": 28,
   "metadata": {},
   "outputs": [
    {
     "name": "stdout",
     "output_type": "stream",
     "text": [
      "[-2 - I, -2 + I]\n"
     ]
    }
   ],
   "source": [
    "def f(x):\n",
    "    return x**2 +4*x +5\n",
    "x = Symbol('x')\n",
    "sol = solve(f(x),x)\n",
    "print(sol)"
   ]
  },
  {
   "cell_type": "markdown",
   "metadata": {},
   "source": [
    "#### \n",
    "\n",
    "`solve(f(x) > a, x)`"
   ]
  },
  {
   "cell_type": "code",
   "execution_count": 29,
   "metadata": {},
   "outputs": [
    {
     "name": "stdout",
     "output_type": "stream",
     "text": [
      "(4 < x) & (x < oo)\n",
      "((-oo < x) & (x < -2)) | ((2 < x) & (x < oo))\n"
     ]
    }
   ],
   "source": [
    "def f(x):\n",
    "    return x - 4 \n",
    "\n",
    "def g(x):\n",
    "    return x**2 - 4 \n",
    "\n",
    "x = Symbol('x')\n",
    "sol1 = solve(f(x) > 0, x)\n",
    "print(sol1) \n",
    "sol2 = solve(g(x) > 0, x)\n",
    "print(sol2)"
   ]
  },
  {
   "cell_type": "markdown",
   "metadata": {},
   "source": [
    "In the code above (lines 10 and 11), we have computed the values of $x$ in the interval $f(x)>0$ and $g(x)>0$ respectively."
   ]
  },
  {
   "cell_type": "markdown",
   "metadata": {},
   "source": [
    "#### \n",
    "\n",
    "$$\\tan^2(x) - 3 = 0$$"
   ]
  },
  {
   "cell_type": "code",
   "execution_count": 30,
   "metadata": {},
   "outputs": [
    {
     "name": "stdout",
     "output_type": "stream",
     "text": [
      "[-pi/3, pi/3]\n"
     ]
    }
   ],
   "source": [
    "def f(x):\n",
    "    return tan(x)**2 - 3 \n",
    "\n",
    "x = Symbol('x')\n",
    "sol = solve(f(x), x)\n",
    "print(sol) "
   ]
  },
  {
   "cell_type": "markdown",
   "metadata": {},
   "source": [
    "solutions are in the range $-\\pi <= x <\\pi$"
   ]
  },
  {
   "cell_type": "markdown",
   "metadata": {},
   "source": [
    "### **Solving systems of equations**\n",
    "\n",
    "This system of equations is to be in a list as the first argument of `solve()` and the variables will be in a list as the second argument of `solve()`:\n",
    "\n",
    "`solve([eq1, eq2,...eqN], [x1, x2, x3,...xN])`"
   ]
  },
  {
   "cell_type": "markdown",
   "metadata": {},
   "source": [
    "$$x + y - z - 4 = 0$$\n",
    "$$x - 2*y + 3*z + 6 = 0$$\n",
    "$$2*x + 3*y + z - 7 = 0$$"
   ]
  },
  {
   "cell_type": "code",
   "execution_count": 31,
   "metadata": {},
   "outputs": [
    {
     "name": "stdout",
     "output_type": "stream",
     "text": [
      "{y: 2, z: -1, x: 1}\n",
      "<class 'dict'>\n",
      "x = 1\n",
      "y = 2\n",
      "z = -1\n"
     ]
    }
   ],
   "source": [
    "x, y, z = symbols('x y z')\n",
    "# defining eqautions \n",
    "eq1 = x + y - z - 4\n",
    "eq2 = x - 2*y + 3*z + 6\n",
    "eq3 = 2*x +3*y + z - 7 \n",
    "\n",
    "sol = solve([eq1, eq2, eq3], [x, y, z])\n",
    "\n",
    "print(sol)\n",
    "print(type(sol))\n",
    "print(\"x =\", sol[x])\n",
    "print(\"y =\", sol[y])\n",
    "print(\"z =\", sol[z])"
   ]
  },
  {
   "cell_type": "markdown",
   "metadata": {},
   "source": [
    "Notice that the type of the sol is a *dictionary* where each variable is a key to its corresponding value."
   ]
  },
  {
   "cell_type": "markdown",
   "metadata": {},
   "source": [
    "### **Symbolic solution**\n",
    "\n",
    "$$x + y - z - a = 0$$\n",
    "$$x - 2*y + 3*z + b = 0$$\n",
    "$$2*x + 3*y + z - c = 0$$"
   ]
  },
  {
   "cell_type": "code",
   "execution_count": 32,
   "metadata": {},
   "outputs": [
    {
     "name": "stdout",
     "output_type": "stream",
     "text": [
      "{y: -5*a/13 + 3*b/13 + 4*c/13, z: -7*a/13 - b/13 + 3*c/13, x: 11*a/13 - 4*b/13 - c/13}\n",
      "x = 11*a/13 - 4*b/13 - c/13\n",
      "y = -5*a/13 + 3*b/13 + 4*c/13\n",
      "z = -7*a/13 - b/13 + 3*c/13\n"
     ]
    }
   ],
   "source": [
    "from sympy import *\n",
    "\n",
    "x, y, z = symbols('x y z')\n",
    "a, b, c = symbols('a b c')\n",
    "# defining eqautions \n",
    "eq1 = x + y - z - a\n",
    "eq2 = x - 2*y + 3*z + b\n",
    "eq3 = 2*x +3*y + z - c \n",
    "\n",
    "sol = solve([eq1, eq2, eq3], [x, y, z])\n",
    "\n",
    "print(sol)\n",
    "\n",
    "print(\"x =\", sol[x])\n",
    "print(\"y =\", sol[y])\n",
    "print(\"z =\", sol[z])"
   ]
  },
  {
   "cell_type": "markdown",
   "metadata": {},
   "source": [
    "## **3. Ordinary Differential Equations (ODE)**\n",
    "\n",
    "常微分方程\n",
    "\n",
    "`Function` and `Eq` classes\n",
    "\n",
    "`Eq` is used to define equations in SymPy, the comma separates the right-hand side from the left-hand side\n",
    "    \n",
    "    Eq(lhs,rhs)"
   ]
  },
  {
   "cell_type": "markdown",
   "metadata": {},
   "source": [
    "Define a function of symbol `x`:\n",
    "\n",
    "    x = Symbol('x')\n",
    "    f = Function('f')(x)\n",
    "    \n",
    "Compute the derivate of the `Function`, we use the diff() methods:\n",
    "\n",
    "    f.diff(x) # first order derivative\n",
    "    f.diff(x,x) # second order derivative\n",
    "    \n",
    "Steps to solve the ODE:    \n",
    "    \n",
    "    1. Set up the ODE.\n",
    "    2. Pass it as the first argument of dsolve().\n",
    "    3. Pass the function f(x) as the second argument for which we will solve the equation.\n"
   ]
  },
  {
   "cell_type": "markdown",
   "metadata": {},
   "source": [
    "#### \n",
    "$$\\frac{d y}{d x} + 5yx^2 = 0$$"
   ]
  },
  {
   "cell_type": "code",
   "execution_count": 33,
   "metadata": {},
   "outputs": [
    {
     "name": "stdout",
     "output_type": "stream",
     "text": [
      "Eq(y(x), C1*exp(-5*x**3/3))\n"
     ]
    }
   ],
   "source": [
    "from sympy import *\n",
    "\n",
    "x = symbols('x')\n",
    "y = Function('y')(x)\n",
    "\n",
    "dydx = y.diff(x)\n",
    "diff_eq = Eq(dydx + 5*y*x**2, 0)\n",
    "z = dsolve(diff_eq)\n",
    "print(z)"
   ]
  },
  {
   "cell_type": "markdown",
   "metadata": {},
   "source": [
    "$$ y(x) = C_1e^{\\frac{-5x^3}{3}}$$"
   ]
  },
  {
   "cell_type": "code",
   "execution_count": 34,
   "metadata": {},
   "outputs": [
    {
     "name": "stdout",
     "output_type": "stream",
     "text": [
      "C1*exp(-5*x**3/3)\n"
     ]
    }
   ],
   "source": [
    "print(z.rhs)"
   ]
  },
  {
   "cell_type": "markdown",
   "metadata": {},
   "source": [
    "#### \n",
    "\n",
    "#### **Higher-ODEs**\n",
    "\n",
    "The equation of motion for the damped harmonic oscillator is:\n",
    "\n",
    "$$\\frac{d^2 x}{d t^2} + 2\\zeta\\omega_0\\frac{d x}{d t} + \\omega^2_0x = 0$$\n",
    "\n",
    "where $x$ is the position of the oscillator, $t$ is the time, $\\zeta$ is the damping ratio and $\\omega_0$ is the oscillator freq."
   ]
  },
  {
   "cell_type": "code",
   "execution_count": 35,
   "metadata": {},
   "outputs": [
    {
     "name": "stdout",
     "output_type": "stream",
     "text": [
      "Eq(x(t), (C1*sin(1.73205080756888*pi*t) + C2*cos(1.73205080756888*pi*t))*exp(-1.0*pi*t))\n"
     ]
    }
   ],
   "source": [
    "from sympy import *\n",
    "\n",
    "t = Symbol('t')\n",
    "x = Function('x')(t)\n",
    "W = 2*pi\n",
    "zeta = 0.5\n",
    "\n",
    "dxdt = x.diff(t)\n",
    "dx2dt2 = x.diff(t,t)\n",
    "diff_eq = Eq(dx2dt2 + 2*zeta*W*dxdt + W**2*x, 0)\n",
    "z = dsolve(diff_eq)\n",
    "print(z)"
   ]
  },
  {
   "cell_type": "code",
   "execution_count": 36,
   "metadata": {},
   "outputs": [
    {
     "name": "stdout",
     "output_type": "stream",
     "text": [
      "(cos(0.660254037844386*pi) + sin(0.660254037844386*pi))*exp(-5.0*pi)\n"
     ]
    }
   ],
   "source": [
    "print(z.rhs.subs({'C1':1, 'C2':1, t:5}))"
   ]
  },
  {
   "cell_type": "code",
   "execution_count": null,
   "metadata": {},
   "outputs": [],
   "source": []
  },
  {
   "cell_type": "markdown",
   "metadata": {},
   "source": [
    "## **4. Exercise**"
   ]
  },
  {
   "cell_type": "markdown",
   "metadata": {},
   "source": [
    "### **a. Integrating Complex Functions**"
   ]
  },
  {
   "cell_type": "markdown",
   "metadata": {},
   "source": [
    "In this exercise, you will implement a Python function to integrate complex mathematical functions.\n",
    "\n",
    "$$\\int \\, \\tan^{-1}(x) \\,\\mathrm{d}x = x \\,\\tan^{-1}(x) - \\frac{1}{2}ln(1 + x^2) + C$$\n",
    "\n",
    "$$\\tan^{-1}(x) = x - \\frac{x^3}{3} + \\frac{x^5}{5} - \\frac{x^7}{7} + \\frac{x^9}{9}...$$"
   ]
  },
  {
   "cell_type": "markdown",
   "metadata": {},
   "source": [
    "**Problem statement**\n",
    "\n",
    "Define a Python function `ts_integral()` that computes the indefinite or definite integral of the Taylor series from the input mathematical function.\n",
    "\n",
    "The function should have the following arguments in this order:\n",
    "\n",
    "Obligatory Arguments - The function should always have these arguments at least.\n",
    "\n",
    "1. The mathematical function input: `f`.\n",
    "\n",
    "2. The variable to be integrated: `x`.\n",
    "\n",
    "Optional Arguments - the function will input defaults even if the user does not provide these.\n",
    "\n",
    "3. The order of the Taylor series expansion `n`, with the default value set to `5`.\n",
    "\n",
    "4. The limits of integration; `lim1` and `lim2`.\n",
    "\n",
    "`def ts_integral(f, x, n, lim1, lim2)`\n",
    "\n",
    "**Return Statement**\n",
    "\n",
    "The function should return a tuple with two values:\n",
    "\n",
    "1. The Taylor series of the input function.\n",
    "2. The integral from the Taylor series of the input function. The value of the integral should be up to **3** significant figures.\n",
    "\n"
   ]
  },
  {
   "cell_type": "code",
   "execution_count": 37,
   "metadata": {},
   "outputs": [
    {
     "name": "stdout",
     "output_type": "stream",
     "text": [
      "Tylor Series of f(x):  x**9/9 - x**7/7 + x**5/5 - x**3/3 + x\n",
      "Integral of f(x):  0.283\n"
     ]
    },
    {
     "data": {
      "image/png": "[encoded data removed]",
      "text/plain": [
       "<Figure size 432x288 with 1 Axes>"
      ]
     },
     "metadata": {
      "needs_background": "light"
     },
     "output_type": "display_data"
    }
   ],
   "source": [
    "from sympy import *\n",
    "%matplotlib inline\n",
    "\n",
    "def f(x):\n",
    "    return atan(x) \n",
    "\n",
    "x = Symbol('x')\n",
    "\n",
    "def ts_integral(f, x, n = 5,lim1 = None, lim2 =None):\n",
    "    res_int = 0\n",
    "    tylor_f = f(x).series(x, 0, n).removeO() # taylor series around 0 with max power n\n",
    "    res_int = integrate(f(x), (x, lim1, lim2)) \n",
    "    return tylor_f, res_int.evalf(3)  \n",
    "\n",
    "print(\"Tylor Series of f(x): \", ts_integral(f, x, 10, 0, pi/4)[0])\n",
    "print(\"Integral of f(x): \",ts_integral(f, x, 10, 0, pi/4)[1])\n",
    "\n",
    "\n",
    "## (sympy.plotting)plot the tylor series of atan(x)    \n",
    "p = plot(atan(x),ts_integral(f, x, 5, 0, pi/4)[0],ts_integral(f, x, 7, 0, pi/4)[0],ts_integral(f, x, 10, 0, pi/4)[0],\n",
    "         (x,-2,2),ylim=(-1, 1),legend=True, show=False)\n",
    "\n",
    "p[0].line_color = 'blue'\n",
    "p[1].line_color = 'green'\n",
    "p[2].line_color = 'firebrick'\n",
    "p[3].line_color = 'black'\n",
    "p.title = 'Taylor Series Expansion for atan'\n",
    "p.show()"
   ]
  },
  {
   "cell_type": "code",
   "execution_count": null,
   "metadata": {},
   "outputs": [],
   "source": []
  },
  {
   "cell_type": "markdown",
   "metadata": {},
   "source": [
    "### **b. Solve a Differential Equation**"
   ]
  },
  {
   "cell_type": "markdown",
   "metadata": {},
   "source": [
    "**Problem statement**\n",
    "\n",
    "Solve the following differential equation in SymPy:\n",
    "\n",
    "$$\\frac{d^2y}{dx^2} + 2\\frac{dy}{dx} +y(x) = \\sin(x)$$"
   ]
  },
  {
   "cell_type": "code",
   "execution_count": 38,
   "metadata": {},
   "outputs": [
    {
     "name": "stdout",
     "output_type": "stream",
     "text": [
      "(C1 + C2*x)*exp(-x) - cos(x)/2\n"
     ]
    }
   ],
   "source": [
    "from sympy import *\n",
    "\n",
    "x = Symbol('x')\n",
    "y = Function('y')(x)\n",
    "\n",
    "dydx = y.diff(x)\n",
    "dy2dx2 = y.diff(x,2) # alternatively d2ydx2 = dydx.diff(x) or y.diff(x,x)\n",
    "\n",
    "\n",
    "diffEqu  = Eq(dy2dx2 + 2*dydx + y, sin(x))\n",
    "z = dsolve(diffEqu)\n",
    "print(z.rhs)"
   ]
  }
 ],
 "metadata": {
  "kernelspec": {
   "display_name": "Python 3",
   "language": "python",
   "name": "python3"
  },
  "language_info": {
   "codemirror_mode": {
    "name": "ipython",
    "version": 3
   },
   "file_extension": ".py",
   "mimetype": "text/x-python",
   "name": "python",
   "nbconvert_exporter": "python",
   "pygments_lexer": "ipython3",
   "version": "3.5.4"
  }
 },
 "nbformat": 4,
 "nbformat_minor": 4
}
