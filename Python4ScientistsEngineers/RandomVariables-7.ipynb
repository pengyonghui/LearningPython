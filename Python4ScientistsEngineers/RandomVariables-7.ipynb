{
 "cells": [
  {
   "cell_type": "markdown",
   "metadata": {},
   "source": [
    "## **1. Generating random numbers**"
   ]
  },
  {
   "cell_type": "code",
   "execution_count": 23,
   "metadata": {},
   "outputs": [],
   "source": [
    "import numpy as np\n",
    "import numpy.random as rnd\n"
   ]
  },
  {
   "cell_type": "markdown",
   "metadata": {},
   "source": [
    "The `randint(low, high, size)` function returns an array consisting of `size` integers, each is drawn randomly from low up to, but not including, high."
   ]
  },
  {
   "cell_type": "code",
   "execution_count": 24,
   "metadata": {},
   "outputs": [
    {
     "name": "stdout",
     "output_type": "stream",
     "text": [
      "[ 7  2  8  6  7  4  6 10 10  8]\n"
     ]
    }
   ],
   "source": [
    "print(rnd.randint(0,1 + 10,10))"
   ]
  },
  {
   "cell_type": "markdown",
   "metadata": {},
   "source": [
    "#### \n",
    "\n",
    "the value of the seed defines the sequence of random numbers that you get"
   ]
  },
  {
   "cell_type": "code",
   "execution_count": 25,
   "metadata": {},
   "outputs": [
    {
     "name": "stdout",
     "output_type": "stream",
     "text": [
      "[1 1 0 1 0 1 1 0 1 1]\n"
     ]
    }
   ],
   "source": [
    "rnd.seed(10)\n",
    "print(rnd.randint(0, 1 + 1, 10))"
   ]
  },
  {
   "cell_type": "markdown",
   "metadata": {},
   "source": [
    "### draw random numbers from a given array using the choice() function\n",
    "\n",
    "`rnd.choice(array, size, replace)`"
   ]
  },
  {
   "cell_type": "code",
   "execution_count": 26,
   "metadata": {},
   "outputs": [
    {
     "name": "stdout",
     "output_type": "stream",
     "text": [
      "The given array: [ 1  2  3  4  5  6  7  8  9 10]\n",
      "\n",
      "Pick 3 random numbers form the array:  [1 2 9]\n"
     ]
    }
   ],
   "source": [
    "size = 3\n",
    "arr = np.arange(1,11)\n",
    "print(\"The given array:\", arr)\n",
    "pick = rnd.choice(arr, size, replace = True)\n",
    "print(\"\\nPick \" + str(size) + \" random numbers form the array: \",pick)"
   ]
  },
  {
   "cell_type": "code",
   "execution_count": null,
   "metadata": {},
   "outputs": [],
   "source": []
  },
  {
   "cell_type": "markdown",
   "metadata": {},
   "source": [
    "## **2. Flipping Coins**\n",
    "\n",
    "let's flip a coin 100 times and count the number of heads, denoted by 0, and the number of tails, denoted by 1. "
   ]
  },
  {
   "cell_type": "code",
   "execution_count": 27,
   "metadata": {},
   "outputs": [
    {
     "name": "stdout",
     "output_type": "stream",
     "text": [
      "number of heads =  59\n",
      "number of tails =  42\n"
     ]
    }
   ],
   "source": [
    "flips = rnd.randint(0, 1+1, 100)\n",
    "headCount = 0\n",
    "tailCount = 1\n",
    "for i in range(100):\n",
    "    if flips[i] == 0:\n",
    "        headCount += 1\n",
    "    else:\n",
    "        tailCount += 1\n",
    "print('number of heads = ', headCount)\n",
    "print('number of tails = ', tailCount)\n",
    "            "
   ]
  },
  {
   "cell_type": "code",
   "execution_count": 28,
   "metadata": {},
   "outputs": [
    {
     "name": "stdout",
     "output_type": "stream",
     "text": [
      "number of heads =  47\n",
      "number of tails =  53\n"
     ]
    }
   ],
   "source": [
    "flips = rnd.randint(0, 1+1, 100)\n",
    "headCount = len(flips[flips == 0])\n",
    "tailCount = len(flips[flips == 1])\n",
    "\n",
    "print('number of heads = ', headCount)\n",
    "print('number of tails = ', tailCount)"
   ]
  },
  {
   "cell_type": "code",
   "execution_count": 29,
   "metadata": {},
   "outputs": [
    {
     "name": "stdout",
     "output_type": "stream",
     "text": [
      "outcome  0  is  32\n",
      "outcome  1  is  33\n",
      "outcome  2  is  35\n"
     ]
    }
   ],
   "source": [
    "n = 3    # number of outcomes\n",
    "outcomes = np.zeros(n, dtype='int') # Two outcomes. heads are stored in outcome[0], tails in outcome[1]\n",
    "flips = rnd.randint(0, n, 100)\n",
    "\n",
    "for i in range (n):\n",
    "    outcomes[i] = len(flips[flips == i])    # stores the length of of each outcome in outcomes\n",
    "    print('outcome ', i, ' is ', outcomes[i])"
   ]
  },
  {
   "cell_type": "markdown",
   "metadata": {},
   "source": [
    "`axis = 0` sums over index 0 of the array (along the rows), `axis = 1` sums over the index 1 of the array (along the columns)"
   ]
  },
  {
   "cell_type": "code",
   "execution_count": 30,
   "metadata": {},
   "outputs": [
    {
     "name": "stdout",
     "output_type": "stream",
     "text": [
      "number of 0 tails: 27\n",
      "number of 1 tail: 47\n",
      "number of 2 tails: 26\n"
     ]
    }
   ],
   "source": [
    "rnd.seed(55)    # to make sure the output of rnd is consistent\n",
    "flips = rnd.randint(low=0, high=1+1, size=(2, 100)) # random array of dimensions 2 x 100\n",
    "tails = np.sum(flips, axis=0)\n",
    "number_of_tails = np.zeros(3, dtype='int')\n",
    "\n",
    "for i in range(3):\n",
    "    number_of_tails[i] = np.count_nonzero(tails == i)\n",
    "\n",
    "print('number of 0 tails:', number_of_tails[0])\n",
    "print('number of 1 tail:', number_of_tails[1])\n",
    "print('number of 2 tails:', number_of_tails[2])"
   ]
  },
  {
   "cell_type": "code",
   "execution_count": null,
   "metadata": {},
   "outputs": [],
   "source": []
  },
  {
   "cell_type": "markdown",
   "metadata": {},
   "source": [
    "### Plotting Results"
   ]
  },
  {
   "cell_type": "code",
   "execution_count": 31,
   "metadata": {},
   "outputs": [],
   "source": [
    "import matplotlib.pyplot as plt\n",
    "%matplotlib inline"
   ]
  },
  {
   "cell_type": "code",
   "execution_count": 32,
   "metadata": {},
   "outputs": [
    {
     "data": {
      "text/plain": [
       "Text(0,0.5,'Occurance in 100 trails')"
      ]
     },
     "execution_count": 32,
     "metadata": {},
     "output_type": "execute_result"
    },
    {
     "data": {
      "image/png": "[encoded data removed]",
      "text/plain": [
       "<Figure size 432x288 with 1 Axes>"
      ]
     },
     "metadata": {
      "needs_background": "light"
     },
     "output_type": "display_data"
    }
   ],
   "source": [
    "# two coin flips with 100 trails\n",
    "\n",
    "flips = rnd.randint(low = 0, high = 1+1, size = (2, 100)) \n",
    "# add up each trail from the two flips\n",
    "tails = np.sum(flips, axis = 0)\n",
    "# sum = 0, 1, or, 2\n",
    "numTails = np.zeros(3, dtype = 'int')\n",
    "for i in range(3):\n",
    "    numTails[i] = np.count_nonzero(tails == i)\n",
    "    \n",
    "fig, ax = plt.subplots()\n",
    "ax.bar(range(0,3), numTails)\n",
    "ax.set_xticks(range(0,3))\n",
    "ax.set_xlabel('Number of tails')\n",
    "ax.set_ylabel('Occurance in 100 trails')"
   ]
  },
  {
   "cell_type": "markdown",
   "metadata": {},
   "source": [
    "### Cumulative probability\n"
   ]
  },
  {
   "cell_type": "code",
   "execution_count": 33,
   "metadata": {},
   "outputs": [
    {
     "name": "stdout",
     "output_type": "stream",
     "text": [
      "Cumulative prob [0.33 0.72 1.  ]\n"
     ]
    },
    {
     "data": {
      "text/plain": [
       "Text(0,0.5,'Cumulative probability')"
      ]
     },
     "execution_count": 33,
     "metadata": {},
     "output_type": "execute_result"
    },
    {
     "data": {
      "image/png": "[encoded data removed]",
      "text/plain": [
       "<Figure size 432x288 with 1 Axes>"
      ]
     },
     "metadata": {
      "needs_background": "light"
     },
     "output_type": "display_data"
    }
   ],
   "source": [
    "flips = rnd.randint(low = 0, high = 1+1, size = (2, 100)) \n",
    "# add up each trail from the two flips\n",
    "tails = np.sum(flips, axis = 0)\n",
    "# sum = 0, 1, or, 2\n",
    "numTails = np.zeros(3, dtype = 'int')\n",
    "for i in range(3):\n",
    "    numTails[i] = np.count_nonzero(tails == i)\n",
    "    \n",
    "prob = numTails/100\n",
    "cum_prob = np.cumsum(prob)\n",
    "print('Cumulative prob', cum_prob)\n",
    "\n",
    "fig, ax = plt.subplots()\n",
    "# cum_prob[0] = prob[0], cum_prob[1] = prob[0] + prob[1], etc.\n",
    "ax.bar(range(0,3), cum_prob)\n",
    "ax.set_xticks(range(0,3))\n",
    "ax.set_xlabel('Number of tails in two flips')\n",
    "ax.set_ylabel('Cumulative probability')"
   ]
  },
  {
   "cell_type": "code",
   "execution_count": null,
   "metadata": {},
   "outputs": [],
   "source": []
  },
  {
   "cell_type": "markdown",
   "metadata": {},
   "source": [
    "## **3. Bernoulli Variable**"
   ]
  },
  {
   "cell_type": "markdown",
   "metadata": {},
   "source": [
    "### \n",
    "\n",
    "flip a coin five times in a row and record how many times we obtain tails (varying from 0-5)."
   ]
  },
  {
   "cell_type": "code",
   "execution_count": 34,
   "metadata": {},
   "outputs": [
    {
     "name": "stdout",
     "output_type": "stream",
     "text": [
      "probabilities [0.027 0.154 0.329 0.312 0.149 0.029]\n",
      "Cumulative prob [0.027 0.181 0.51  0.822 0.971 1.   ]\n"
     ]
    },
    {
     "data": {
      "text/plain": [
       "Text(0,0.5,'Cumulative probability')"
      ]
     },
     "execution_count": 34,
     "metadata": {},
     "output_type": "execute_result"
    },
    {
     "data": {
      "image/png": "[encoded data removed]",
      "text/plain": [
       "<Figure size 432x288 with 1 Axes>"
      ]
     },
     "metadata": {
      "needs_background": "light"
     },
     "output_type": "display_data"
    }
   ],
   "source": [
    "N_coin = 5\n",
    "N = 1000\n",
    "flips = rnd.randint(low = 0, high = 1+1, size = (N_coin, N)) \n",
    "tails = np.sum(flips, axis = 0)\n",
    "\n",
    "numTails = np.zeros(6, dtype = 'int')\n",
    "for i in range(6):\n",
    "    numTails[i] = np.count_nonzero(tails == i)\n",
    "    \n",
    "prob = numTails/N\n",
    "cum_prob = np.cumsum(prob)\n",
    "print('probabilities', prob)\n",
    "print('Cumulative prob', cum_prob)\n",
    "\n",
    "fig, ax = plt.subplots()\n",
    "# cum_prob[0] = prob[0], cum_prob[1] = prob[0] + prob[1], etc.\n",
    "ax.bar(range(0,6), cum_prob)\n",
    "ax.set_xticks(range(0,6))\n",
    "ax.set_xlabel('Number of tails in two flips')\n",
    "ax.set_ylabel('Cumulative probability')"
   ]
  },
  {
   "cell_type": "markdown",
   "metadata": {},
   "source": [
    "###  probability of a Bernouli variable\n"
   ]
  },
  {
   "cell_type": "markdown",
   "metadata": {},
   "source": [
    "$$p = P(Y = 1)$$\n",
    "\n",
    "$$ P(X = k) = \\left(\\!\\begin{array}{c} n \\\\ k \\end{array}\\!\\right)p^k(1 - p)^{n-k}$$\n",
    "\n",
    "The term $\\left(\\begin{array}{}n\\\\ k\\end{array}\\right)$ may be computed with the `comb()` function, which needs to be imported from the `scipy.special` package."
   ]
  },
  {
   "cell_type": "markdown",
   "metadata": {},
   "source": [
    "Compute the theoretical probability for 0, 1, 2, 3, 4, and 5 tails and compare the answer to the probability computed from 1000 trials, 10000 trials, and 100000 trials"
   ]
  },
  {
   "cell_type": "code",
   "execution_count": 35,
   "metadata": {},
   "outputs": [
    {
     "name": "stdout",
     "output_type": "stream",
     "text": [
      "Theoretical probabilities:\n",
      "0  tails  0.03125\n",
      "1  tails  0.15625\n",
      "2  tails  0.3125\n",
      "3  tails  0.3125\n",
      "4  tails  0.15625\n",
      "5  tails  0.03125\n",
      "Probability with 1000  trials [0.028 0.149 0.324 0.315 0.15  0.034]\n",
      "Probability with 10000  trials [0.0306 0.1578 0.3136 0.3085 0.1612 0.0283]\n",
      "Probability with 100000  trials [0.03129 0.15721 0.31113 0.31209 0.15628 0.032  ]\n"
     ]
    }
   ],
   "source": [
    "from scipy.special import comb\n",
    "\n",
    "print('Theoretical probabilities:')\n",
    "for k in range(6):\n",
    "    y = comb(5, k)*0.5**k*0.5**(5 - k)\n",
    "    print(k, ' tails ', y)\n",
    "    \n",
    "for N in (1000, 10000, 100000):\n",
    "    tails = np.sum(rnd.randint(0, 1 + 1, (5, N)), axis = 0)\n",
    "    countTails = np.zeros(6)\n",
    "    for i in range(6):\n",
    "        countTails[i] = np.count_nonzero(tails == i)\n",
    "    print('Probability with', N, ' trials', countTails/float(N))"
   ]
  },
  {
   "cell_type": "code",
   "execution_count": null,
   "metadata": {},
   "outputs": [],
   "source": []
  },
  {
   "cell_type": "markdown",
   "metadata": {},
   "source": [
    "## **4. Normal Continuous Random Variables**\n",
    "\n",
    "正态连续随机变量\n"
   ]
  },
  {
   "cell_type": "code",
   "execution_count": 36,
   "metadata": {},
   "outputs": [
    {
     "name": "stdout",
     "output_type": "stream",
     "text": [
      "Mean of data:  4.050395888414691\n",
      "Standard deviation of data:  1.9452449593214867\n"
     ]
    }
   ],
   "source": [
    "\n",
    "data = rnd.normal(loc = 4, scale = 2, size = 100)\n",
    "print('Mean of data: ', np.mean(data))\n",
    "print('Standard deviation of data: ', np.std(data))"
   ]
  },
  {
   "cell_type": "code",
   "execution_count": null,
   "metadata": {},
   "outputs": [],
   "source": []
  },
  {
   "cell_type": "markdown",
   "metadata": {},
   "source": [
    "## **5. Histograms and probability density function**\n",
    "\n",
    "直方图和概率密度函数"
   ]
  },
  {
   "cell_type": "code",
   "execution_count": 37,
   "metadata": {},
   "outputs": [
    {
     "name": "stdout",
     "output_type": "stream",
     "text": [
      "number of data points in each bin: [ 4.  3.  6.  9. 14. 18. 17.  9. 12.  8.]\n",
      "limits of the bins: [0.52771249 1.41762564 2.30753879 3.19745195 4.0873651  4.97727825\n",
      " 5.86719141 6.75710456 7.64701771 8.53693087 9.42684402]\n"
     ]
    },
    {
     "data": {
      "image/png": "[encoded data removed]",
      "text/plain": [
       "<Figure size 432x288 with 1 Axes>"
      ]
     },
     "metadata": {
      "needs_background": "light"
     },
     "output_type": "display_data"
    }
   ],
   "source": [
    "data = rnd.normal(loc=6, scale=2, size=100)\n",
    "hist_data = plt.hist(data)\n",
    "plt.xlabel('bins')\n",
    "plt.ylabel('number of data points')\n",
    "print('number of data points in each bin:', hist_data[0])\n",
    "print('limits of the bins:', hist_data[1])"
   ]
  },
  {
   "cell_type": "markdown",
   "metadata": {},
   "source": [
    "specify the number of bins with the `bins` keyword, and the range (minimum and maximum limits of the bins) with the `range` keyword"
   ]
  },
  {
   "cell_type": "code",
   "execution_count": 38,
   "metadata": {},
   "outputs": [
    {
     "name": "stdout",
     "output_type": "stream",
     "text": [
      "number of data points in each bin: [ 0.  2.  5.  8. 12. 23. 24.  9. 10.  6.  0.  1.]\n",
      "limits of the bins: [ 0.  1.  2.  3.  4.  5.  6.  7.  8.  9. 10. 11. 12.]\n"
     ]
    },
    {
     "data": {
      "text/plain": [
       "Text(0,0.5,'number of data points')"
      ]
     },
     "execution_count": 38,
     "metadata": {},
     "output_type": "execute_result"
    },
    {
     "data": {
      "image/png": "[encoded data removed]",
      "text/plain": [
       "<Figure size 432x288 with 1 Axes>"
      ]
     },
     "metadata": {
      "needs_background": "light"
     },
     "output_type": "display_data"
    }
   ],
   "source": [
    "data = rnd.normal(loc=6, scale=2, size=100)\n",
    "hist_data = plt.hist(data, bins=12, range=(0, 12))\n",
    "print('number of data points in each bin:', hist_data[0])\n",
    "print('limits of the bins:', hist_data[1])\n",
    "plt.xlabel('bins')\n",
    "plt.ylabel('number of data points')"
   ]
  },
  {
   "cell_type": "markdown",
   "metadata": {},
   "source": [
    "### Probability density function\n",
    "\n",
    "A line representing the pdf of the underlying normal distribution"
   ]
  },
  {
   "cell_type": "code",
   "execution_count": 39,
   "metadata": {},
   "outputs": [
    {
     "name": "stdout",
     "output_type": "stream",
     "text": [
      "number of data points in each bin: [0.02020202 0.02020202 0.03030303 0.09090909 0.18181818 0.17171717\n",
      " 0.17171717 0.11111111 0.09090909 0.06060606 0.04040404 0.01010101]\n",
      "limits of the bins: [ 0.  1.  2.  3.  4.  5.  6.  7.  8.  9. 10. 11. 12.]\n"
     ]
    },
    {
     "data": {
      "image/png": "[encoded data removed]",
      "text/plain": [
       "<Figure size 432x288 with 1 Axes>"
      ]
     },
     "metadata": {
      "needs_background": "light"
     },
     "output_type": "display_data"
    }
   ],
   "source": [
    "from scipy.stats import norm\n",
    "\n",
    "mu = 6\n",
    "sig = 2\n",
    "N = 100\n",
    "\n",
    "fig, ax = plt.subplots()\n",
    "\n",
    "data = rnd.normal(loc=mu, scale=sig, size=N)\n",
    "hist_data = ax.hist(data, bins=12, range=(0, 12), density = True)\n",
    "print('number of data points in each bin:', hist_data[0])\n",
    "print('limits of the bins:', hist_data[1])\n",
    "\n",
    "# plotting pdf\n",
    "x = np.linspace(0, 12, N)\n",
    "y = norm.pdf(x, loc= mu, scale = sig)\n",
    "\n",
    "ax.plot(x, y, 'r')\n",
    "ax.set_xlabel('Counts')\n",
    "ax.set_ylabel('Probability density')\n",
    "ax.set_title(r'Histogram and pdf: $\\mu = 6$, $\\sigma= 2$')\n",
    "fig.tight_layout()\n",
    "plt.show()"
   ]
  },
  {
   "cell_type": "code",
   "execution_count": 40,
   "metadata": {},
   "outputs": [
    {
     "data": {
      "text/plain": [
       "3"
      ]
     },
     "execution_count": 40,
     "metadata": {},
     "output_type": "execute_result"
    }
   ],
   "source": [
    "len(hist_data)"
   ]
  },
  {
   "cell_type": "markdown",
   "metadata": {},
   "source": [
    "## **6. Percentiles**\n",
    "\n",
    "like $D_{10}$, $D_{50}$ in GSD of particles,  the $25^{th}$ percentile marks a data point in the ordered data such that $25\\%$ of the data is below this data point and thus $75\\%$ is above this data point. \n",
    "\n",
    "Say that the $25^{th}$ percentile score on an exam was 85%, then $25\\%$ of the candidates scored less than $85\\%$ on the exam."
   ]
  },
  {
   "cell_type": "markdown",
   "metadata": {},
   "source": [
    "Interquartile range or IQR: 50% region around the median.\n",
    "\n",
    "IQR runs from the $25^{th}$ empirical percentile to the $75^{th}$ empirical percentile.\n",
    "\n",
    "The $95\\%$ region, which runs from the $2.5^{th}$ empirical percentile to  the $97.5^{th}$ empirical percentile.\n",
    "\n",
    "Percentiles of a dataset may be computed with the `percentile()` function in the numpy package. The first argument is the data, the second argument is a list of percentiles:"
   ]
  },
  {
   "cell_type": "code",
   "execution_count": 41,
   "metadata": {},
   "outputs": [
    {
     "name": "stdout",
     "output_type": "stream",
     "text": [
      "2.5 percentile:  8.237387670127148\n",
      "50 percentile:  9.53506795982343\n",
      "97.5 percentile:  13.33979212307559\n",
      "95 percentile:  5.102404452948441\n",
      "IQR percentile:  3.2138171438483294\n"
     ]
    }
   ],
   "source": [
    "mean = 10\n",
    "stdd = 2\n",
    "N = 100\n",
    "data = rnd.normal(loc = mean, scale = stdd, size = N)\n",
    "lower, median, upper = np.percentile(data, [25, 50, 97.5])\n",
    "lower_Q, upper_Q = np.percentile(data, [25, 75])\n",
    "\n",
    "print('2.5 percentile: ', lower)\n",
    "print('50 percentile: ', median)\n",
    "print('97.5 percentile: ', upper)\n",
    "print('95 percentile: ', upper - lower)\n",
    "print('IQR percentile: ', upper_Q - lower_Q)"
   ]
  },
  {
   "cell_type": "markdown",
   "metadata": {},
   "source": [
    "### Theoretical percentiles of normal distribution\n",
    "\n"
   ]
  },
  {
   "cell_type": "code",
   "execution_count": 42,
   "metadata": {},
   "outputs": [
    {
     "name": "stdout",
     "output_type": "stream",
     "text": [
      "[ 6.08007203 10.         13.91992797]\n"
     ]
    }
   ],
   "source": [
    "from scipy.stats import norm\n",
    "\n",
    "norm_theory = norm.ppf([0.025, 0.5, 0.975], loc=10, scale=2)\n",
    "print (norm_theory)"
   ]
  },
  {
   "cell_type": "markdown",
   "metadata": {},
   "source": [
    "## **7.Box and whisker plot**"
   ]
  },
  {
   "cell_type": "code",
   "execution_count": null,
   "metadata": {},
   "outputs": [],
   "source": []
  },
  {
   "cell_type": "code",
   "execution_count": null,
   "metadata": {},
   "outputs": [],
   "source": []
  },
  {
   "cell_type": "markdown",
   "metadata": {},
   "source": [
    "## **8.Exercise**"
   ]
  },
  {
   "cell_type": "markdown",
   "metadata": {},
   "source": [
    "Consider an election where one million (1,000,000) people will vote.\n",
    "\n",
    "    490,000 people will vote for Mr. Arthur\n",
    "\n",
    "    510,000 people will vote for Mr. Ben.\n",
    "\n",
    "One day before the election, a private company, Octavius, conducts a poll among 1000 randomly chosen voters."
   ]
  },
  {
   "cell_type": "code",
   "execution_count": 43,
   "metadata": {},
   "outputs": [
    {
     "name": "stdout",
     "output_type": "stream",
     "text": [
      "Arthur in house:  508\n",
      "Octavius predicts the wrong winner\n"
     ]
    }
   ],
   "source": [
    "import numpy as np \n",
    "import numpy.random as rnd\n",
    "\n",
    "rnd.seed(2)\n",
    "people = np.zeros(1000000, dtype = 'int')\n",
    "people[490000:] = 1\n",
    "poll = rnd.choice(people,1000)\n",
    "\n",
    "ArthurinHouse = len(poll[poll == 0])\n",
    "print('Arthur in house: ', ArthurinHouse)\n",
    "\n",
    "if ArthurinHouse > 500:\n",
    "    print('Octavius predicts the wrong winner')\n",
    "else:\n",
    "    print('Octavius predicts the right winner')"
   ]
  },
  {
   "cell_type": "markdown",
   "metadata": {},
   "source": [
    "#### \n",
    "\n",
    "Perform the poll 1000 times. Count how many times Arthur wins and how many times Ben wins.\n",
    "\n",
    "Also, find the probability that Octavius will predict the correct winner based on these 1000 polls of 1000 people."
   ]
  },
  {
   "cell_type": "code",
   "execution_count": 44,
   "metadata": {},
   "outputs": [
    {
     "name": "stdout",
     "output_type": "stream",
     "text": [
      "The probability that Octavius predicts correct winner:  0.732\n"
     ]
    }
   ],
   "source": [
    "rnd.seed(2)\n",
    "\n",
    "arthurWins = 0\n",
    "benWins = 0\n",
    "polls = 1000\n",
    "for i in range(polls):\n",
    "    people = np.zeros(1000000, dtype = 'int')\n",
    "    people[490000:] = 1\n",
    "    poll = rnd.choice(people,1000)\n",
    "    ArthurinHouse = len(poll[poll == 0])\n",
    "\n",
    "\n",
    "    if ArthurinHouse > 500:\n",
    "        arthurWins += 1    \n",
    "    else:\n",
    "        benWins += 1\n",
    "print(\"The probability that Octavius predicts correct winner: \", (benWins/polls))"
   ]
  }
 ],
 "metadata": {
  "kernelspec": {
   "display_name": "Python 3",
   "language": "python",
   "name": "python3"
  },
  "language_info": {
   "codemirror_mode": {
    "name": "ipython",
    "version": 3
   },
   "file_extension": ".py",
   "mimetype": "text/x-python",
   "name": "python",
   "nbconvert_exporter": "python",
   "pygments_lexer": "ipython3",
   "version": "3.5.4"
  }
 },
 "nbformat": 4,
 "nbformat_minor": 4
}
