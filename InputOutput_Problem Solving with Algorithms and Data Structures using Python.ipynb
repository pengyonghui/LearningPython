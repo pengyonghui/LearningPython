{
 "cells": [
  {
   "cell_type": "markdown",
   "metadata": {},
   "source": [
    "Python’s input function takes a single parameter that is a string. This string is often called the prompt because it contains some helpful text prompting the user to enter something."
   ]
  },
  {
   "cell_type": "code",
   "execution_count": 1,
   "metadata": {},
   "outputs": [
    {
     "name": "stdin",
     "output_type": "stream",
     "text": [
      "Please enter your name  rick\n"
     ]
    },
    {
     "name": "stdout",
     "output_type": "stream",
     "text": [
      "Your name in all capitals is RICK and has length 4\n"
     ]
    }
   ],
   "source": [
    "aName = input(\"Please enter your name \")\n",
    "print(\"Your name in all capitals is\",aName.upper(),\n",
    "      \"and has length\", len(aName))"
   ]
  },
  {
   "cell_type": "code",
   "execution_count": 2,
   "metadata": {},
   "outputs": [
    {
     "name": "stdin",
     "output_type": "stream",
     "text": [
      "Please enter the radius of the circle  6\n"
     ]
    },
    {
     "name": "stdout",
     "output_type": "stream",
     "text": [
      "the radius =  6.0\n",
      "the diameter =  12.0\n"
     ]
    }
   ],
   "source": [
    "# if want the input string interpreted as another type, you must provide the type\n",
    "# conversion explicitly!\n",
    "\n",
    "sradius = input(\"Please enter the radius of the circle \")\n",
    "radius = float(sradius)\n",
    "diameter = 2 * radius\n",
    "print(\"the radius = \", radius)\n",
    "print(\"the diameter = \",diameter)"
   ]
  },
  {
   "cell_type": "markdown",
   "metadata": {},
   "source": [
    "###### String Formatting"
   ]
  },
  {
   "cell_type": "code",
   "execution_count": 5,
   "metadata": {},
   "outputs": [
    {
     "name": "stdout",
     "output_type": "stream",
     "text": [
      "Hello\n",
      "Hello World\n",
      "Hello****World\n",
      "Hello World****"
     ]
    }
   ],
   "source": [
    "print(\"Hello\")\n",
    "print(\"Hello\",\"World\")\n",
    "print(\"Hello\",\"World\", sep = \"****\")\n",
    "print(\"Hello\",\"World\", end = \"****\")"
   ]
  },
  {
   "cell_type": "code",
   "execution_count": 7,
   "metadata": {},
   "outputs": [
    {
     "name": "stdout",
     "output_type": "stream",
     "text": [
      "RICK is 29 years old.\n",
      "RICK is 29 years old.\n"
     ]
    }
   ],
   "source": [
    "#  formatted strings\n",
    "# A formatted string is a template in which words or spaces that will remain constant are combined with placeholders for variables \n",
    "# that will be inserted into the string\n",
    "aName = \"RICK\"\n",
    "age = 29\n",
    "print(aName, \"is\", age, \"years old.\")\n",
    "print(\"%s is %d years old.\" % (aName, age))"
   ]
  },
  {
   "cell_type": "markdown",
   "metadata": {},
   "source": [
    " The % operator is a string operator called the format operator. The left side of the expression holds the template or format string, and the right side holds a collection of values that will be substituted into the format string.Note that the number of values in the collection on the right side corresponds with the number of % characters in the format string. Values are taken—in order, left to right—from the collection and inserted into the format string."
   ]
  },
  {
   "cell_type": "markdown",
   "metadata": {},
   "source": [
    "Character\tOutput Format\n",
    "d, i\t    Integer\n",
    "u\t        Unsigned integer\n",
    "f\t        Floating point as m.ddddd\n",
    "e\t        Floating point as m.ddddde+/-xx\n",
    "E\t        Floating point as m.dddddE+/-xx\n",
    "g\t        Use %e for exponents less than −4 or greater than +5, otherwise use %f\n",
    "c\t        Single character\n",
    "s\t        String, or any Python data object that can be converted to a string by using the str function.\n",
    "%\t        Insert a literal % character"
   ]
  },
  {
   "cell_type": "markdown",
   "metadata": {},
   "source": [
    "Modifier\tExample\t    Description\n",
    "number\t    %20d\t    Put the value in a field width of 20\n",
    "-\t        %-20d\t    Put the value in a field 20 characters wide, left-justified\n",
    "+\t        %+20d\t    Put the value in a field 20 characters wide, right-justified\n",
    "0\t        %020d\t    Put the value in a field 20 characters wide, fill in with leading zeros.\n",
    ".\t        %20.2f\t    Put the value in a field 20 characters wide with 2 characters to the right of the decimal point.\n",
    "(name)\t    %(name)d\tGet the value from the supplied dictionary using name as the key."
   ]
  },
  {
   "cell_type": "code",
   "execution_count": 12,
   "metadata": {},
   "outputs": [
    {
     "name": "stdout",
     "output_type": "stream",
     "text": [
      "The banana costs 24 cents\n",
      "The     banana costs 24.00 cents\n",
      "The     banana costs      24.00 cents\n",
      "the banana costs    24.0 cents\n"
     ]
    }
   ],
   "source": [
    "price = 24\n",
    "item = \"banana\"\n",
    "print(\"The %s costs %d cents\" %(item,price))\n",
    "print(\"The % +10s costs %5.2f cents\" %(item,price))\n",
    "print(\"The %+10s costs % 10.2f cents\" %(item,price))\n",
    "itemdict = {\"item\":\"banana\",\"cost\":24}\n",
    "print(\"the %(item)s costs %(cost)7.1f cents\" %itemdict)"
   ]
  },
  {
   "cell_type": "code",
   "execution_count": null,
   "metadata": {},
   "outputs": [],
   "source": []
  }
 ],
 "metadata": {
  "kernelspec": {
   "display_name": "Python 3",
   "language": "python",
   "name": "python3"
  },
  "language_info": {
   "codemirror_mode": {
    "name": "ipython",
    "version": 3
   },
   "file_extension": ".py",
   "mimetype": "text/x-python",
   "name": "python",
   "nbconvert_exporter": "python",
   "pygments_lexer": "ipython3",
   "version": "3.8.6"
  }
 },
 "nbformat": 4,
 "nbformat_minor": 4
}
