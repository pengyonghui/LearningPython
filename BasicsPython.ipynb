{
 "cells": [
  {
   "cell_type": "markdown",
   "metadata": {},
   "source": [
    "### <font color = red> __1. List__ </font>"
   ]
  },
  {
   "cell_type": "markdown",
   "metadata": {},
   "source": [
    "#### 0. 新建一个1维list，并进行初始化工作"
   ]
  },
  {
   "cell_type": "code",
   "execution_count": 1,
   "metadata": {},
   "outputs": [
    {
     "name": "stdout",
     "output_type": "stream",
     "text": [
      "[0, 0, 0]\n",
      "\n",
      "\n",
      "[0, 0, 0, 0, 0]\n"
     ]
    }
   ],
   "source": [
    "oneList_1 = [0 for _ in range(3)]\n",
    "oneList_2 = [0] * 5\n",
    "print(oneList_1)\n",
    "print('\\n')\n",
    "print(oneList_2)\n"
   ]
  },
  {
   "cell_type": "markdown",
   "metadata": {},
   "source": [
    "#### 1. 新建一个二维list，并进行初始化工作"
   ]
  },
  {
   "cell_type": "code",
   "execution_count": 2,
   "metadata": {},
   "outputs": [
    {
     "name": "stdout",
     "output_type": "stream",
     "text": [
      "Create a new 11*3 List with empty '': \n",
      "[['', '', ''], ['', '', ''], ['', '', ''], ['', '', ''], ['', '', ''], ['', '', ''], ['', '', ''], ['', '', ''], ['', '', ''], ['', '', ''], ['', '', '']]\n",
      "\n",
      " The length of the list is: 11 \n",
      "\n",
      " Insert a '+' sign in the second item and print out the new List: \n",
      "[['', '', ''], ['', '', '', '+'], ['', '', ''], ['', '', ''], ['', '', ''], ['', '', ''], ['', '', ''], ['', '', ''], ['', '', ''], ['', '', ''], ['', '', '']]\n",
      "\n",
      " Another way to create a new 3*7 List with empty '': \n",
      "[['', '', '', '', '', '', ''], ['', '', '', '', '', '', ''], ['', '', '', '', '', '', '']]\n"
     ]
    }
   ],
   "source": [
    "tempList = [[''] *3 for i in range(11)]\n",
    "print(\"Create a new 11*3 List with empty '': \")\n",
    "print(tempList)\n",
    "print(\"\\n The length of the list is: %d \\n\" %len(tempList))\n",
    "\n",
    "tempList[1].insert(len(tempList[1]),\"+\")\n",
    "print(\" Insert a '+' sign in the second item and print out the new List: \")\n",
    "print(tempList)\n",
    "\n",
    "print(\"\\n Another way to create a new 3*7 List with empty '': \")\n",
    "arrList = [[\"\" for i in range(7)] for j in range(3)] \n",
    "print (arrList)"
   ]
  },
  {
   "cell_type": "code",
   "execution_count": 3,
   "metadata": {},
   "outputs": [
    {
     "name": "stdout",
     "output_type": "stream",
     "text": [
      "[[], [], [], []]\n"
     ]
    }
   ],
   "source": [
    "parantheses = [[] for i in range(4)]\n",
    "print(parantheses)"
   ]
  },
  {
   "cell_type": "markdown",
   "metadata": {},
   "source": [
    "#### 2. 复制list"
   ]
  },
  {
   "cell_type": "code",
   "execution_count": 4,
   "metadata": {},
   "outputs": [
    {
     "name": "stdout",
     "output_type": "stream",
     "text": [
      "[[0, 0, 0, 0, 0, 0, 0, 0, 0, 0], [0, 0, 0, 0, 0, 0, 0, 0, 0, 0], [0, 0, 0, 0, 0, 0, 0, 0, 0, 0]]\n",
      "[[1, 0, 0, 0, 0, 0, 0, 0, 0, 0], [1, 0, 0, 0, 0, 0, 0, 0, 0, 0], [1, 0, 0, 0, 0, 0, 0, 0, 0, 0]]\n"
     ]
    }
   ],
   "source": [
    "a = [[0]*10]*3 # shallow copy\n",
    "print(a)\n",
    "\n",
    "a[0][0] = 1\n",
    "print(a)\n",
    "#  Each row will be an instance, so modifying any column will change that column in all rows\n",
    "# This is because (as you read the expression from the inside out), you create a list of 10 zeros. \n",
    "# You then create a list of 3 references to that initial list of 10 zeros."
   ]
  },
  {
   "cell_type": "code",
   "execution_count": 5,
   "metadata": {},
   "outputs": [
    {
     "name": "stdout",
     "output_type": "stream",
     "text": [
      "[[0, 0, 0, 0, 0, 0, 0, 0, 0, 0], [0, 0, 0, 0, 0, 0, 0, 0, 0, 0], [0, 0, 0, 0, 0, 0, 0, 0, 0, 0]]\n",
      "[[1, 0, 0, 0, 0, 0, 0, 0, 0, 0], [0, 0, 0, 0, 0, 0, 0, 0, 0, 0], [0, 0, 0, 0, 0, 0, 0, 0, 0, 0]]\n"
     ]
    }
   ],
   "source": [
    "# b = [[0]*10 for _ in range(3)]\n",
    "b = [[0 for _ in range(10)] for _ in range(3)] # deep copy\n",
    "print(b)\n",
    "b[0][0] = 1\n",
    "print(b)"
   ]
  },
  {
   "cell_type": "markdown",
   "metadata": {},
   "source": [
    "#### 3. 决定一个list的中间位置"
   ]
  },
  {
   "cell_type": "code",
   "execution_count": 6,
   "metadata": {},
   "outputs": [
    {
     "name": "stdout",
     "output_type": "stream",
     "text": [
      "8\n",
      "5\n",
      "10\n"
     ]
    }
   ],
   "source": [
    "nums = [2,5,8,9,10]\n",
    "mid = len(nums)//2\n",
    "print(nums[mid])\n",
    "num_left = nums[:mid]\n",
    "mid_left = len(num_left)//2\n",
    "print(num_left[mid_left])\n",
    "\n",
    "num_right = nums[mid+1:]\n",
    "mid_right = len(num_right)//2\n",
    "print(num_right[mid_right])"
   ]
  },
  {
   "cell_type": "markdown",
   "metadata": {},
   "source": [
    "#### 4. range()，len()\n",
    "--- parameters of range(): start, stop, step"
   ]
  },
  {
   "cell_type": "code",
   "execution_count": 7,
   "metadata": {},
   "outputs": [
    {
     "name": "stdout",
     "output_type": "stream",
     "text": [
      "[1, 2, 3, 4, 5, 6, 7, 8]\n",
      "\n",
      "\n",
      "[1, 2, 3, 4, 5, 6, 7]\n",
      "[2, 1, 0]\n"
     ]
    }
   ],
   "source": [
    "nums = [i for i in range(1,9)]\n",
    "print(nums)\n",
    "print(\"\\n\")\n",
    "\n",
    "print([i for i in range(1,len(nums))])\n",
    "\n",
    "print([i for i in range(2,-1,-1)]) "
   ]
  },
  {
   "cell_type": "markdown",
   "metadata": {},
   "source": [
    "#### 5. Visit"
   ]
  },
  {
   "cell_type": "code",
   "execution_count": 8,
   "metadata": {},
   "outputs": [
    {
     "name": "stdout",
     "output_type": "stream",
     "text": [
      "The last element of nums is 8, and the last two elements are: 7 and 8\n"
     ]
    }
   ],
   "source": [
    "lastElement = nums[-1]\n",
    "lastTwo = nums[-2:]\n",
    "print('The last element of nums is %d, and the last two elements are: %d and %d' %(lastElement, lastTwo[0], lastTwo[1]))"
   ]
  },
  {
   "cell_type": "markdown",
   "metadata": {},
   "source": [
    "#### 6. enumerate 枚举\n",
    "--- to get the value and index at the same time"
   ]
  },
  {
   "cell_type": "code",
   "execution_count": 9,
   "metadata": {},
   "outputs": [
    {
     "name": "stdout",
     "output_type": "stream",
     "text": [
      "0 a\n",
      "1 b\n",
      "2 c\n"
     ]
    }
   ],
   "source": [
    "l = [\"a\", \"b\", \"c\"]\n",
    "\n",
    "for i, v in enumerate(l):\n",
    "    print(i, v)"
   ]
  },
  {
   "cell_type": "markdown",
   "metadata": {},
   "source": [
    "#### 7. copy\n",
    "--- see below the difference between shallow copy and deep copy"
   ]
  },
  {
   "cell_type": "code",
   "execution_count": 10,
   "metadata": {},
   "outputs": [
    {
     "name": "stdout",
     "output_type": "stream",
     "text": [
      "deep copy b:\n",
      "[1, 2, [3, 4]]\n",
      "after a has been changed b:\n",
      "[1, 2, [3, 4, 5]]\n",
      "a:\n",
      "[1, 2, [3, 4, 5]]\n"
     ]
    }
   ],
   "source": [
    "import copy\n",
    "a = [1, 2, [3, 4]]\n",
    "b1= copy.copy(a) # or b =a[:]\n",
    "print('deep copy b:')\n",
    "print(b1)\n",
    "a[2].append(5)\n",
    "print('after a has been changed b:')\n",
    "print(b1)\n",
    "print('a:')\n",
    "print(a)"
   ]
  },
  {
   "cell_type": "code",
   "execution_count": null,
   "metadata": {},
   "outputs": [
    {
     "name": "stdout",
     "output_type": "stream",
     "text": [
      "deep copy b:\n",
      "[1, 2, [3, 4]]\n",
      "after a has been changed b:\n",
      "[1, 2, [3, 4]]\n",
      "a:\n",
      "[1, 2, [3, 4, 5]]\n"
     ]
    }
   ],
   "source": [
    "import copy\n",
    "a = [1, 2, [3, 4]]\n",
    "b1= copy.deepcopy(a)\n",
    "print('deep copy b:')\n",
    "print(b1)\n",
    "a[2].append(5)\n",
    "print('after a has been changed b:')\n",
    "print(b1)\n",
    "print('a:')\n",
    "print(a)\n"
   ]
  },
  {
   "cell_type": "markdown",
   "metadata": {},
   "source": [
    "#### 8. zip()\n",
    "--- 将两个数组像拉链一样挨个聚合"
   ]
  },
  {
   "cell_type": "code",
   "execution_count": null,
   "metadata": {},
   "outputs": [],
   "source": [
    "x = [1,2,3]\n",
    "y = [4,6,7]\n",
    "zipped = zip(x,y)\n",
    "list(zipped)"
   ]
  },
  {
   "cell_type": "code",
   "execution_count": null,
   "metadata": {},
   "outputs": [],
   "source": [
    "for i in range(4):\n",
    "    for f, v in zip(range(i), reversed(range(i))):\n",
    "        print(f, v)"
   ]
  },
  {
   "cell_type": "markdown",
   "metadata": {},
   "source": [
    "###  <font color = red> __2. Dictionary__ </font>"
   ]
  },
  {
   "cell_type": "code",
   "execution_count": null,
   "metadata": {},
   "outputs": [],
   "source": [
    "roman = {'M': 1000,'D': 500 ,'C': 100,'L': 50,'X': 10,'V': 5,'I': 1}\n",
    "roman['M']"
   ]
  },
  {
   "cell_type": "markdown",
   "metadata": {},
   "source": [
    "#### <font color = red> OrderedDict </font>\n",
    "#### remembers the oreder of number inserted\n",
    "\n",
    "1. <font color = green> __popitem(last=True)__ </font>\n",
    "    - The popitem() method for ordered dictionaries returns and removes a (key, value) pair.\n",
    "    The pairs are returned in LIFO order if last is true or FIFO order if false.\n",
    "    <p> &#9644 </p>\n",
    "    <a id = \"Secion Title\"></a>\n",
    "\n",
    "2. <font color = green> _move_to_end(key, last=True)_ </font>\n",
    "    *    Move an existing key to either end of an ordered dictionary. The item is moved to the right end if last is true (the default) or to the beginning if last is false. Raises KeyError if the key does not exist:"
   ]
  },
  {
   "cell_type": "code",
   "execution_count": null,
   "metadata": {},
   "outputs": [],
   "source": [
    "from collections import OrderedDict\n",
    "lru = OrderedDict()\n",
    "lru['0'] =1\n",
    "lru['5'] = 6\n",
    "lru['3'] = 4\n",
    "print(lru)\n",
    "lru.move_to_end('5')\n",
    "print(lru)\n",
    "lru.popitem(last=False) \n",
    "print(lru)"
   ]
  },
  {
   "cell_type": "code",
   "execution_count": null,
   "metadata": {},
   "outputs": [],
   "source": [
    "lru = dict()\n",
    "lru['0'] =1\n",
    "lru['5'] = 6\n",
    "lru['3'] = 4\n",
    "print(lru)"
   ]
  },
  {
   "cell_type": "markdown",
   "metadata": {},
   "source": [
    "###  <font color = red> __3. Strings__ </font>"
   ]
  },
  {
   "cell_type": "markdown",
   "metadata": {},
   "source": [
    "#### 1. ord(), char()"
   ]
  },
  {
   "cell_type": "code",
   "execution_count": null,
   "metadata": {},
   "outputs": [],
   "source": [
    "print('The unicode of char a is: ')\n",
    "print(ord('a')) \n",
    "\n",
    "print('The char of unicode 100 is:')\n",
    "print(chr(100))"
   ]
  },
  {
   "cell_type": "markdown",
   "metadata": {},
   "source": [
    "#### 2. strip(), split()"
   ]
  },
  {
   "cell_type": "code",
   "execution_count": null,
   "metadata": {},
   "outputs": [],
   "source": [
    "print(' spacious '.strip()) # default to rm the spaces\n",
    "\n",
    "print('\\n')\n",
    "\n",
    "print('www.example.com'.strip('cmowe.')) # remove the chars in the strings"
   ]
  },
  {
   "cell_type": "code",
   "execution_count": null,
   "metadata": {},
   "outputs": [],
   "source": [
    "print('1,2,3'.split(',')) # return a list\n",
    "\n",
    "print('1,2,3'.split(',', maxsplit = 1)) # confine the split numbers\n",
    "\n",
    "print('1,2,,3'.split(','))"
   ]
  },
  {
   "cell_type": "code",
   "execution_count": null,
   "metadata": {},
   "outputs": [],
   "source": []
  },
  {
   "cell_type": "markdown",
   "metadata": {},
   "source": [
    "### <font color = blue> __4. Conditions__ </font>"
   ]
  },
  {
   "cell_type": "markdown",
   "metadata": {},
   "source": [
    "res = a if condition else b\n",
    "\n",
    ":if condition is true, then res = a, otherwise res = b"
   ]
  },
  {
   "cell_type": "markdown",
   "metadata": {},
   "source": [
    "###  <font color = red> __5. Others__ </font>"
   ]
  },
  {
   "cell_type": "markdown",
   "metadata": {},
   "source": [
    "####  1. max values"
   ]
  },
  {
   "cell_type": "code",
   "execution_count": null,
   "metadata": {},
   "outputs": [],
   "source": [
    "maxVal = float('inf')# or float('-inf')\n",
    "print(maxVal)\n",
    "\n",
    "import sys\n",
    "# max int\n",
    "maxInt = sys.maxsize\n",
    "print(maxInt)\n",
    "minInt = -sys.maxsize - 1\n",
    "print(minInt)"
   ]
  },
  {
   "cell_type": "markdown",
   "metadata": {},
   "source": [
    "#### 2. itertools\n",
    "\n",
    "--- for example permutations(), combinations(), groupby, and so on... \n",
    "\n",
    "--- here is a good example used in solving the problem of swap for longest repeated character substring in [lc1156](https://leetcode.com/problems/swap-for-longest-repeated-character-substring/discuss/355852/Python-Groupby/322898)"
   ]
  },
  {
   "cell_type": "code",
   "execution_count": null,
   "metadata": {},
   "outputs": [],
   "source": [
    "from itertools import permutations \n",
    "from itertools import combinations\n",
    "from itertools import groupby\n",
    "\n",
    "perm = permutations('ABCD',2)\n",
    "print(list(perm))"
   ]
  },
  {
   "cell_type": "code",
   "execution_count": null,
   "metadata": {},
   "outputs": [],
   "source": [
    "comb = combinations('ABCD',2)\n",
    "print(list(comb))"
   ]
  },
  {
   "cell_type": "code",
   "execution_count": null,
   "metadata": {},
   "outputs": [],
   "source": [
    "print([k for k, g in groupby('AAAABBBCCDAABBB')])\n",
    "print([list(g) for k, g in groupby('AAAABBBCCD')])\n",
    "print([[c, len(list(g))] for c, g in groupby('AAABBCB')])"
   ]
  },
  {
   "cell_type": "code",
   "execution_count": null,
   "metadata": {},
   "outputs": [],
   "source": [
    "import collections\n",
    "collections.Counter('AAABBCB')"
   ]
  },
  {
   "cell_type": "code",
   "execution_count": null,
   "metadata": {},
   "outputs": [],
   "source": []
  }
 ],
 "metadata": {
  "kernelspec": {
   "display_name": "Python 3",
   "language": "python",
   "name": "python3"
  },
  "language_info": {
   "codemirror_mode": {
    "name": "ipython",
    "version": 3
   },
   "file_extension": ".py",
   "mimetype": "text/x-python",
   "name": "python",
   "nbconvert_exporter": "python",
   "pygments_lexer": "ipython3",
   "version": "3.5.4"
  }
 },
 "nbformat": 4,
 "nbformat_minor": 4
}
