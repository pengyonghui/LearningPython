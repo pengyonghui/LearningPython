{
 "cells": [
  {
   "cell_type": "markdown",
   "metadata": {},
   "source": [
    "### 1. 关于List的一些基本操作"
   ]
  },
  {
   "cell_type": "markdown",
   "metadata": {},
   "source": [
    "#### 新建一个二维list，并进行初始化工作"
   ]
  },
  {
   "cell_type": "code",
   "execution_count": 1,
   "metadata": {},
   "outputs": [
    {
     "name": "stdout",
     "output_type": "stream",
     "text": [
      "Create a new 11*3 List with empty '': \n",
      "[['', '', ''], ['', '', ''], ['', '', ''], ['', '', ''], ['', '', ''], ['', '', ''], ['', '', ''], ['', '', ''], ['', '', ''], ['', '', ''], ['', '', '']]\n",
      "\n",
      " The length of the list is: 11 \n",
      "\n",
      " Insert a '+' sign in the second item and print out the new List: \n",
      "[['', '', ''], ['', '', '', '+'], ['', '', ''], ['', '', ''], ['', '', ''], ['', '', ''], ['', '', ''], ['', '', ''], ['', '', ''], ['', '', ''], ['', '', '']]\n",
      "\n",
      " Another way to create a new 3*7 List with empty '': \n",
      "[['', '', '', '', '', '', ''], ['', '', '', '', '', '', ''], ['', '', '', '', '', '', '']]\n"
     ]
    }
   ],
   "source": [
    "tempList = [[''] *3 for i in range(11)]\n",
    "print(\"Create a new 11*3 List with empty '': \")\n",
    "print(tempList)\n",
    "print(\"\\n The length of the list is: %d \\n\" %len(tempList))\n",
    "\n",
    "tempList[1].insert(len(tempList[1]),\"+\")\n",
    "print(\" Insert a '+' sign in the second item and print out the new List: \")\n",
    "print(tempList)\n",
    "\n",
    "print(\"\\n Another way to create a new 3*7 List with empty '': \")\n",
    "arrList = [[\"\" for i in range(7)] for j in range(3)] \n",
    "print (arrList)"
   ]
  },
  {
   "cell_type": "markdown",
   "metadata": {},
   "source": [
    "#### 关于range()，len()的一些操作"
   ]
  },
  {
   "cell_type": "code",
   "execution_count": 16,
   "metadata": {},
   "outputs": [
    {
     "name": "stdout",
     "output_type": "stream",
     "text": [
      "[1, 2, 3, 4, 5, 6, 7, 8]\n",
      "\n",
      "\n",
      "[1, 2, 3, 4, 5, 6, 7]\n",
      "[2, 1, 0]\n"
     ]
    }
   ],
   "source": [
    "nums = [i for i in range(1,9)]\n",
    "print(nums)\n",
    "print(\"\\n\")\n",
    "\n",
    "print([i for i in range(1,len(nums))])\n",
    "\n",
    "print([i for i in range(2,-1,-1)])"
   ]
  },
  {
   "cell_type": "markdown",
   "metadata": {},
   "source": [
    "#### dictionary()的操作"
   ]
  },
  {
   "cell_type": "code",
   "execution_count": 17,
   "metadata": {},
   "outputs": [
    {
     "data": {
      "text/plain": [
       "1000"
      ]
     },
     "execution_count": 17,
     "metadata": {},
     "output_type": "execute_result"
    }
   ],
   "source": [
    "roman = {'M': 1000,'D': 500 ,'C': 100,'L': 50,'X': 10,'V': 5,'I': 1}\n",
    "roman['M']"
   ]
  },
  {
   "cell_type": "code",
   "execution_count": 2,
   "metadata": {},
   "outputs": [
    {
     "name": "stdout",
     "output_type": "stream",
     "text": [
      "[[], [], [], []]\n"
     ]
    }
   ],
   "source": [
    "parantheses = [[] for i in range(3+1)]\n",
    "print(parantheses)\n"
   ]
  },
  {
   "cell_type": "markdown",
   "metadata": {},
   "source": [
    "### 决定一个list的中间位置"
   ]
  },
  {
   "cell_type": "code",
   "execution_count": 14,
   "metadata": {},
   "outputs": [
    {
     "name": "stdout",
     "output_type": "stream",
     "text": [
      "8\n",
      "5\n",
      "10\n"
     ]
    }
   ],
   "source": [
    "nums = [2, 5,8, 9,10]\n",
    "mid = len(nums)//2\n",
    "print(nums[mid])\n",
    "num_left = nums[:mid]\n",
    "mid_left = len(num_left)//2\n",
    "print(num_left[mid_left])\n",
    "\n",
    "num_right = nums[mid+1:]\n",
    "mid_right = len(num_right)//2\n",
    "print(num_right[mid_right])"
   ]
  },
  {
   "cell_type": "markdown",
   "metadata": {},
   "source": [
    "### 2. 关于Array的一些基本操作"
   ]
  },
  {
   "cell_type": "code",
   "execution_count": 12,
   "metadata": {},
   "outputs": [
    {
     "data": {
      "text/plain": [
       "10"
      ]
     },
     "execution_count": 12,
     "metadata": {},
     "output_type": "execute_result"
    }
   ],
   "source": []
  },
  {
   "cell_type": "markdown",
   "metadata": {},
   "source": [
    "### 3. 关于运算符一些基本操作"
   ]
  },
  {
   "cell_type": "code",
   "execution_count": 2,
   "metadata": {},
   "outputs": [
    {
     "data": {
      "text/plain": [
       "2"
      ]
     },
     "execution_count": 2,
     "metadata": {},
     "output_type": "execute_result"
    }
   ],
   "source": [
    "5//2 # floor division: take the floor or lower number"
   ]
  },
  {
   "cell_type": "code",
   "execution_count": 3,
   "metadata": {},
   "outputs": [
    {
     "name": "stdout",
     "output_type": "stream",
     "text": [
      "1\n"
     ]
    }
   ],
   "source": [
    "print(5%2) # get the remainder"
   ]
  },
  {
   "cell_type": "raw",
   "metadata": {},
   "source": [
    "Operation \tSyntax \tFunction\n",
    "Addition \ta + b \tadd(a, b)\n",
    "Concatenation \tseq1 + seq2 \tconcat(seq1, seq2)\n",
    "Containment Test \tobj in seq \tcontains(seq, obj)\n",
    "Division \ta / b \ttruediv(a, b)\n",
    "Division \ta // b \tfloordiv(a, b)\n",
    "Bitwise And \ta & b \tand_(a, b)\n",
    "Bitwise Exclusive Or \ta ^ b \txor(a, b)\n",
    "Bitwise Inversion \t~ a \tinvert(a)\n",
    "Bitwise Or \ta | b \tor_(a, b)\n",
    "Exponentiation \ta ** b \tpow(a, b)\n",
    "Identity \ta is b \tis_(a, b)\n",
    "Identity \ta is not b \tis_not(a, b)\n",
    "Indexed Assignment \tobj[k] = v \tsetitem(obj, k, v)\n",
    "Indexed Deletion \tdel obj[k] \tdelitem(obj, k)\n",
    "Indexing \tobj[k] \tgetitem(obj, k)\n",
    "Left Shift \ta << b \tlshift(a, b)\n",
    "Modulo \ta % b \tmod(a, b)\n",
    "Multiplication \ta * b \tmul(a, b)\n",
    "Negation (Arithmetic) \t- a \tneg(a)\n",
    "Negation (Logical) \tnot a \tnot_(a)\n",
    "Positive \t+ a \tpos(a)\n",
    "Right Shift \ta >> b \trshift(a, b)\n",
    "Slice Assignment \tseq[i:j] = values \tsetitem(seq, slice(i, j), values)\n",
    "Slice Deletion \tdel seq[i:j] \tdelitem(seq, slice(i, j))\n",
    "Slicing \tseq[i:j] \tgetitem(seq, slice(i, j))\n",
    "String Formatting \ts % obj \tmod(s, obj)\n",
    "Subtraction \ta - b \tsub(a, b)\n",
    "Truth Test \tobj \ttruth(obj)\n",
    "Ordering \ta < b \tlt(a, b)\n",
    "Ordering \ta <= b \tle(a, b)\n",
    "Equality \ta == b \teq(a, b)\n",
    "Difference \ta != b \tne(a, b)\n",
    "Ordering \ta >= b \tge(a, b)\n",
    "Ordering \ta > b \tgt(a, b)"
   ]
  },
  {
   "cell_type": "code",
   "execution_count": null,
   "metadata": {},
   "outputs": [],
   "source": []
  },
  {
   "cell_type": "markdown",
   "metadata": {},
   "source": [
    "###  zip()"
   ]
  },
  {
   "cell_type": "code",
   "execution_count": 1,
   "metadata": {},
   "outputs": [
    {
     "name": "stdout",
     "output_type": "stream",
     "text": [
      "0 0\n",
      "0 1\n",
      "1 0\n",
      "0 2\n",
      "1 1\n",
      "2 0\n"
     ]
    }
   ],
   "source": [
    "for i in range(1,3+1):\n",
    "    for j,k in zip(range(i), reversed(range(i))):\n",
    "        print(j,k)\n"
   ]
  }
 ],
 "metadata": {
  "kernelspec": {
   "display_name": "Python 3",
   "language": "python",
   "name": "python3"
  },
  "language_info": {
   "codemirror_mode": {
    "name": "ipython",
    "version": 3
   },
   "file_extension": ".py",
   "mimetype": "text/x-python",
   "name": "python",
   "nbconvert_exporter": "python",
   "pygments_lexer": "ipython3",
   "version": "3.5.4"
  }
 },
 "nbformat": 4,
 "nbformat_minor": 4
}
