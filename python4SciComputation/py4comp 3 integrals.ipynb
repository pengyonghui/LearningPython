{
 "cells": [
  {
   "cell_type": "markdown",
   "metadata": {},
   "source": [
    "## 3. Computing integrals"
   ]
  },
  {
   "cell_type": "markdown",
   "metadata": {},
   "source": [
    "### a. the composite trapezoidal method 复合梯形法"
   ]
  },
  {
   "cell_type": "markdown",
   "metadata": {},
   "source": [
    "we want the corresponding Python function\n",
    "trapezoid to take any f, a, b, and n as input and return the approximation\n",
    "to the integral."
   ]
  },
  {
   "cell_type": "code",
   "execution_count": 1,
   "metadata": {},
   "outputs": [],
   "source": [
    "def trapezoidal(f,a,b,n):\n",
    "    h = float(b-a)/n\n",
    "    result = 0.5*f(a) + 0.5*f(b)\n",
    "    for i in range(1, n):\n",
    "        result += f(a + i*h)\n",
    "    result *= h\n",
    "    \n",
    "    return result"
   ]
  },
  {
   "cell_type": "code",
   "execution_count": 2,
   "metadata": {},
   "outputs": [],
   "source": [
    "def application():   \n",
    "    from math import exp\n",
    "\n",
    "    v = lambda t: 3*(t**2)*exp(t**3)\n",
    "    n = 400\n",
    "    numerical = trapezoidal(v, 0, 1, n)\n",
    "    print(numerical)\n",
    "\n",
    "    V = lambda t: exp(t**3)\n",
    "    exact = V(1) -V(0)\n",
    "    error = exact - numerical\n",
    "    print('n = %d: %.16f, error: %g' %(n, numerical, error))"
   ]
  },
  {
   "cell_type": "markdown",
   "metadata": {},
   "source": [
    "### making a module\n",
    "put everything inside functions and let function calls in the main\n",
    "program be in the so-called test block:"
   ]
  },
  {
   "cell_type": "code",
   "execution_count": 3,
   "metadata": {},
   "outputs": [
    {
     "name": "stdout",
     "output_type": "stream",
     "text": [
      "1.7183030649495579\n",
      "n = 400: 1.7183030649495579, error: -2.12365e-05\n"
     ]
    }
   ],
   "source": [
    "if __name__ =='__main__':\n",
    "    application()"
   ]
  },
  {
   "cell_type": "markdown",
   "metadata": {},
   "source": [
    "(1) implementing a general mathematical algorithm in a general function requires somewhat more abstract thinking, but the resulting code can be used over and over again.\n",
    "\n",
    "(2) Another advantage of packaging mathematical algorithms in functions is that a function can be reused by anyone to solve a problem by just calling the function with a proper set of arguments."
   ]
  },
  {
   "cell_type": "markdown",
   "metadata": {},
   "source": [
    "### b. the composite midpoint method 复合中点法"
   ]
  },
  {
   "cell_type": "markdown",
   "metadata": {},
   "source": [
    "This sum may be written more compactly as:\n",
    "$$\\int_a^b f(x) \\, dx \\approx h * \\sum\\limits_{i=0}^{n-1} f(x_i)$$\n",
    "where $x_i = (a + \\frac{h}{2}) +ih$"
   ]
  },
  {
   "cell_type": "code",
   "execution_count": 4,
   "metadata": {},
   "outputs": [],
   "source": [
    "def midpoint(f, a, b, n):\n",
    "    h = float(b-a)/n\n",
    "    result = 0\n",
    "    for i in range(n):\n",
    "        result += f((a + h/2.0) + i*h)\n",
    "    result *= h\n",
    "    \n",
    "    return result\n"
   ]
  },
  {
   "cell_type": "code",
   "execution_count": null,
   "metadata": {},
   "outputs": [],
   "source": []
  }
 ],
 "metadata": {
  "kernelspec": {
   "display_name": "Python 3",
   "language": "python",
   "name": "python3"
  },
  "language_info": {
   "codemirror_mode": {
    "name": "ipython",
    "version": 3
   },
   "file_extension": ".py",
   "mimetype": "text/x-python",
   "name": "python",
   "nbconvert_exporter": "python",
   "pygments_lexer": "ipython3",
   "version": "3.5.4"
  }
 },
 "nbformat": 4,
 "nbformat_minor": 4
}
